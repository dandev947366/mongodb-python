{
 "cells": [
  {
   "cell_type": "markdown",
   "metadata": {},
   "source": [
    "MongoDB with Python"
   ]
  },
  {
   "cell_type": "code",
   "execution_count": 99,
   "metadata": {},
   "outputs": [],
   "source": [
    "from pymongo import MongoClient, errors, ASCENDING, DESCENDING"
   ]
  },
  {
   "cell_type": "code",
   "execution_count": 9,
   "metadata": {},
   "outputs": [],
   "source": [
    "# init client to connect to mongoDB\n",
    "my_client = MongoClient('mongodb://localhost:27017')"
   ]
  },
  {
   "cell_type": "code",
   "execution_count": 16,
   "metadata": {},
   "outputs": [
    {
     "data": {
      "text/plain": [
       "MongoClient(host=['localhost:27017'], document_class=dict, tz_aware=False, connect=True)"
      ]
     },
     "execution_count": 16,
     "metadata": {},
     "output_type": "execute_result"
    }
   ],
   "source": [
    "my_client"
   ]
  },
  {
   "cell_type": "code",
   "execution_count": 24,
   "metadata": {},
   "outputs": [
    {
     "data": {
      "text/plain": [
       "['SoundCloud', 'admin', 'auth_tutorial', 'config', 'local', 'store']"
      ]
     },
     "execution_count": 24,
     "metadata": {},
     "output_type": "execute_result"
    }
   ],
   "source": [
    "# connect to db\n",
    "my_client.list_database_names()"
   ]
  },
  {
   "cell_type": "code",
   "execution_count": 31,
   "metadata": {},
   "outputs": [],
   "source": [
    "# connect to db store\n",
    "db_store = my_client.store"
   ]
  },
  {
   "cell_type": "code",
   "execution_count": 26,
   "metadata": {},
   "outputs": [
    {
     "data": {
      "text/plain": [
       "Database(MongoClient(host=['localhost:27017'], document_class=dict, tz_aware=False, connect=True), 'store')"
      ]
     },
     "execution_count": 26,
     "metadata": {},
     "output_type": "execute_result"
    }
   ],
   "source": [
    "db_store"
   ]
  },
  {
   "cell_type": "code",
   "execution_count": 40,
   "metadata": {},
   "outputs": [
    {
     "name": "stdout",
     "output_type": "stream",
     "text": [
      "['admin', 'users']\n"
     ]
    }
   ],
   "source": [
    "# list collections from store db\n",
    "print(db_store.list_collection_names())"
   ]
  },
  {
   "cell_type": "code",
   "execution_count": 41,
   "metadata": {},
   "outputs": [],
   "source": [
    "users_col = db_store.users"
   ]
  },
  {
   "cell_type": "code",
   "execution_count": 42,
   "metadata": {},
   "outputs": [
    {
     "data": {
      "text/plain": [
       "Collection(Database(MongoClient(host=['localhost:27017'], document_class=dict, tz_aware=False, connect=True), 'store'), 'users')"
      ]
     },
     "execution_count": 42,
     "metadata": {},
     "output_type": "execute_result"
    }
   ],
   "source": [
    "users_col"
   ]
  },
  {
   "cell_type": "markdown",
   "metadata": {},
   "source": [
    "C - Create"
   ]
  },
  {
   "cell_type": "code",
   "execution_count": 36,
   "metadata": {},
   "outputs": [
    {
     "data": {
      "text/plain": [
       "<pymongo.results.InsertOneResult at 0x122aeb380>"
      ]
     },
     "execution_count": 36,
     "metadata": {},
     "output_type": "execute_result"
    }
   ],
   "source": [
    "users_col.insert_one({\n",
    "    \"name\": \"John\",\n",
    "    \"age\": 29\n",
    "})"
   ]
  },
  {
   "cell_type": "code",
   "execution_count": 38,
   "metadata": {},
   "outputs": [],
   "source": [
    "new_user = {\n",
    "    \"name\": \"Keanu Reeves\",\n",
    "    \"age\": 57\n",
    "}"
   ]
  },
  {
   "cell_type": "code",
   "execution_count": 39,
   "metadata": {},
   "outputs": [
    {
     "data": {
      "text/plain": [
       "<pymongo.results.InsertOneResult at 0x122c2d580>"
      ]
     },
     "execution_count": 39,
     "metadata": {},
     "output_type": "execute_result"
    }
   ],
   "source": [
    "users_col.insert_one(new_user)"
   ]
  },
  {
   "cell_type": "code",
   "execution_count": 43,
   "metadata": {},
   "outputs": [
    {
     "data": {
      "text/plain": [
       "Collection(Database(MongoClient(host=['localhost:27017'], document_class=dict, tz_aware=False, connect=True), 'store'), 'users')"
      ]
     },
     "execution_count": 43,
     "metadata": {},
     "output_type": "execute_result"
    }
   ],
   "source": [
    "users_col"
   ]
  },
  {
   "cell_type": "markdown",
   "metadata": {},
   "source": [
    "R - Read"
   ]
  },
  {
   "cell_type": "code",
   "execution_count": 46,
   "metadata": {},
   "outputs": [
    {
     "data": {
      "text/plain": [
       "{'_id': ObjectId('668a85a873c8b630e2131b6a'),\n",
       " 'name': 'Keanu Reeves',\n",
       " 'age': 57}"
      ]
     },
     "execution_count": 46,
     "metadata": {},
     "output_type": "execute_result"
    }
   ],
   "source": [
    "users_col.find_one({\"name\":\"Keanu Reeves\"})"
   ]
  },
  {
   "cell_type": "code",
   "execution_count": 47,
   "metadata": {},
   "outputs": [
    {
     "data": {
      "text/plain": [
       "{'_id': ObjectId('668a85a873c8b630e2131b6a'),\n",
       " 'name': 'Keanu Reeves',\n",
       " 'age': 57}"
      ]
     },
     "execution_count": 47,
     "metadata": {},
     "output_type": "execute_result"
    }
   ],
   "source": [
    "users_col.find_one(new_user)"
   ]
  },
  {
   "cell_type": "markdown",
   "metadata": {},
   "source": [
    "U- Update"
   ]
  },
  {
   "cell_type": "code",
   "execution_count": 48,
   "metadata": {},
   "outputs": [
    {
     "data": {
      "text/plain": [
       "<pymongo.results.UpdateResult at 0x12311ac00>"
      ]
     },
     "execution_count": 48,
     "metadata": {},
     "output_type": "execute_result"
    }
   ],
   "source": [
    "users_col.update_one({\"name\":\"John\"}, {\"$set\":{\"name\":\"Will\", \"age\":53}})"
   ]
  },
  {
   "cell_type": "markdown",
   "metadata": {},
   "source": [
    "D - Delete"
   ]
  },
  {
   "cell_type": "code",
   "execution_count": 49,
   "metadata": {},
   "outputs": [
    {
     "data": {
      "text/plain": [
       "<pymongo.results.DeleteResult at 0x122884f00>"
      ]
     },
     "execution_count": 49,
     "metadata": {},
     "output_type": "execute_result"
    }
   ],
   "source": [
    "users_col.delete_one({\"name\":\"Will\"})"
   ]
  },
  {
   "cell_type": "code",
   "execution_count": 53,
   "metadata": {},
   "outputs": [],
   "source": [
    "products_db = db_store.products"
   ]
  },
  {
   "cell_type": "code",
   "execution_count": 51,
   "metadata": {},
   "outputs": [],
   "source": [
    "bag = {\"name\": \"Bag\", \"price\":23.78}"
   ]
  },
  {
   "cell_type": "code",
   "execution_count": 52,
   "metadata": {},
   "outputs": [
    {
     "name": "stderr",
     "output_type": "stream",
     "text": [
      "/var/folders/1l/xv3wqjt14cgf1mmyz0bm3bnr0000gn/T/ipykernel_12209/1657952950.py:1: DeprecationWarning: insert is deprecated. Use insert_one or insert_many instead.\n",
      "  products_db.insert(bag)\n"
     ]
    },
    {
     "data": {
      "text/plain": [
       "ObjectId('668a889073c8b630e2131b6b')"
      ]
     },
     "execution_count": 52,
     "metadata": {},
     "output_type": "execute_result"
    }
   ],
   "source": [
    "products_db.insert(bag)"
   ]
  },
  {
   "cell_type": "code",
   "execution_count": 55,
   "metadata": {},
   "outputs": [],
   "source": [
    "phone = {\"name\":\"iphone 11\", \"price\": 800}\n",
    "notebook = {\"name\":\"Notebook\", \"price\": 4.99}"
   ]
  },
  {
   "cell_type": "code",
   "execution_count": 56,
   "metadata": {},
   "outputs": [
    {
     "data": {
      "text/plain": [
       "<pymongo.results.InsertManyResult at 0x1231bb000>"
      ]
     },
     "execution_count": 56,
     "metadata": {},
     "output_type": "execute_result"
    }
   ],
   "source": [
    "products_db.insert_many([phone, notebook])"
   ]
  },
  {
   "cell_type": "code",
   "execution_count": 75,
   "metadata": {},
   "outputs": [],
   "source": [
    "pen = {\"name\":\"Pen2\", \"price\":1.22}\n",
    "insert_pen = products_db.insert_one(pen)"
   ]
  },
  {
   "cell_type": "code",
   "execution_count": 59,
   "metadata": {},
   "outputs": [
    {
     "name": "stdout",
     "output_type": "stream",
     "text": [
      "True\n",
      "668a8a2173c8b630e2131b6f\n"
     ]
    }
   ],
   "source": [
    "print(insert_pen.acknowledged)\n",
    "print(insert_pen.inserted_id)"
   ]
  },
  {
   "cell_type": "code",
   "execution_count": 60,
   "metadata": {},
   "outputs": [
    {
     "data": {
      "text/plain": [
       "<pymongo.results.InsertManyResult at 0x1228afa40>"
      ]
     },
     "execution_count": 60,
     "metadata": {},
     "output_type": "execute_result"
    }
   ],
   "source": [
    "water_bottle = {\"name\":\"Water Bottle\", \"price\": 14.5}\n",
    "jar = {\"name\":\"Jar\", \"price\":4.99}\n",
    "insert_several = products_db.insert_many([water_bottle, jar])\n",
    "insert_several"
   ]
  },
  {
   "cell_type": "code",
   "execution_count": 61,
   "metadata": {},
   "outputs": [
    {
     "name": "stdout",
     "output_type": "stream",
     "text": [
      "True\n",
      "[ObjectId('668a8ac273c8b630e2131b70'), ObjectId('668a8ac273c8b630e2131b71')]\n"
     ]
    }
   ],
   "source": [
    "print(insert_several.acknowledged)\n",
    "print(insert_several.inserted_ids)\n"
   ]
  },
  {
   "cell_type": "markdown",
   "metadata": {},
   "source": [
    "Error Handling When Inserting"
   ]
  },
  {
   "cell_type": "code",
   "execution_count": 67,
   "metadata": {},
   "outputs": [
    {
     "name": "stdout",
     "output_type": "stream",
     "text": [
      "Duplicate Entry Detected\n"
     ]
    }
   ],
   "source": [
    "try:\n",
    "    products_db.insert_one(pen)\n",
    "except errors.DuplicateKeyError:\n",
    "    print(\"Duplicate Entry Detected\")"
   ]
  },
  {
   "cell_type": "code",
   "execution_count": 69,
   "metadata": {},
   "outputs": [
    {
     "name": "stdout",
     "output_type": "stream",
     "text": [
      "Bulk Error Detected\n"
     ]
    }
   ],
   "source": [
    "try:\n",
    "    products_db.insert_many([water_bottle, jar])\n",
    "except errors.BulkWriteError:\n",
    "    print(\"Bulk Error Detected\")"
   ]
  },
  {
   "cell_type": "code",
   "execution_count": 70,
   "metadata": {},
   "outputs": [
    {
     "name": "stdout",
     "output_type": "stream",
     "text": [
      "Bulk Error Detected\n"
     ]
    }
   ],
   "source": [
    "mug = {\"name\":\"Mug\", \"price\":2.33}\n",
    "try:\n",
    "    products_db.insert_many([mug, jar])\n",
    "except errors.BulkWriteError:\n",
    "    print(\"Bulk Error Detected\")"
   ]
  },
  {
   "cell_type": "code",
   "execution_count": 71,
   "metadata": {},
   "outputs": [
    {
     "data": {
      "text/plain": [
       "Collection(Database(MongoClient(host=['localhost:27017'], document_class=dict, tz_aware=False, connect=True), 'store'), 'products')"
      ]
     },
     "execution_count": 71,
     "metadata": {},
     "output_type": "execute_result"
    }
   ],
   "source": [
    "products_db"
   ]
  },
  {
   "cell_type": "markdown",
   "metadata": {},
   "source": [
    "Find Functionality"
   ]
  },
  {
   "cell_type": "code",
   "execution_count": 72,
   "metadata": {},
   "outputs": [],
   "source": [
    "found_pen = products_db.find_one({\"name\":\"Pen\"})"
   ]
  },
  {
   "cell_type": "code",
   "execution_count": 73,
   "metadata": {},
   "outputs": [
    {
     "data": {
      "text/plain": [
       "ObjectId('668a89d773c8b630e2131b6e')"
      ]
     },
     "execution_count": 73,
     "metadata": {},
     "output_type": "execute_result"
    }
   ],
   "source": [
    "found_pen[\"_id\"]"
   ]
  },
  {
   "cell_type": "code",
   "execution_count": 76,
   "metadata": {},
   "outputs": [
    {
     "data": {
      "text/plain": [
       "<pymongo.cursor.Cursor at 0x122e2daf0>"
      ]
     },
     "execution_count": 76,
     "metadata": {},
     "output_type": "execute_result"
    }
   ],
   "source": [
    "# cursor\n",
    "products_db.find({\"name\":\"Pen2\"})"
   ]
  },
  {
   "cell_type": "code",
   "execution_count": 79,
   "metadata": {},
   "outputs": [
    {
     "name": "stdout",
     "output_type": "stream",
     "text": [
      "668a8a2173c8b630e2131b6f\n",
      "668a8e6173c8b630e2131b73\n"
     ]
    }
   ],
   "source": [
    "pen_cursor = products_db.find({\"name\":\"Pen2\"})\n",
    "for pen in pen_cursor:\n",
    "    print(pen[\"_id\"])"
   ]
  },
  {
   "cell_type": "code",
   "execution_count": 81,
   "metadata": {},
   "outputs": [
    {
     "data": {
      "text/plain": [
       "False"
      ]
     },
     "execution_count": 81,
     "metadata": {},
     "output_type": "execute_result"
    }
   ],
   "source": [
    "pen_cursor.alive #cursor went through all results"
   ]
  },
  {
   "cell_type": "code",
   "execution_count": 94,
   "metadata": {},
   "outputs": [
    {
     "data": {
      "text/plain": [
       "True"
      ]
     },
     "execution_count": 94,
     "metadata": {},
     "output_type": "execute_result"
    }
   ],
   "source": [
    "pen_cursor = products_db.find({\"name\":\"Pen2\"})\n",
    "pen_cursor.alive #cursor has not gone through all results"
   ]
  },
  {
   "cell_type": "code",
   "execution_count": 95,
   "metadata": {},
   "outputs": [
    {
     "data": {
      "text/plain": [
       "{'_id': ObjectId('668a8a2173c8b630e2131b6f'), 'name': 'Pen2', 'price': 1.22}"
      ]
     },
     "execution_count": 95,
     "metadata": {},
     "output_type": "execute_result"
    }
   ],
   "source": [
    "pen_cursor.next()"
   ]
  },
  {
   "cell_type": "markdown",
   "metadata": {},
   "source": [
    "Sorting"
   ]
  },
  {
   "cell_type": "code",
   "execution_count": 105,
   "metadata": {},
   "outputs": [
    {
     "name": "stdout",
     "output_type": "stream",
     "text": [
      "{'_id': ObjectId('668a89d773c8b630e2131b6e'), 'name': 'Pen', 'price': 1.22}\n",
      "{'_id': ObjectId('668a8a2173c8b630e2131b6f'), 'name': 'Pen2', 'price': 1.22}\n",
      "{'_id': ObjectId('668a8e6173c8b630e2131b73'), 'name': 'Pen2', 'price': 1.22}\n",
      "{'_id': ObjectId('668a8c9f73c8b630e2131b72'), 'name': 'Mug', 'price': 2.33}\n",
      "{'_id': ObjectId('668a88e873c8b630e2131b6d'), 'name': 'Notebook', 'price': 4.99}\n",
      "{'_id': ObjectId('668a8ac273c8b630e2131b71'), 'name': 'Jar', 'price': 4.99}\n",
      "{'_id': ObjectId('668a8ac273c8b630e2131b70'), 'name': 'Water Bottle', 'price': 14.5}\n",
      "{'_id': ObjectId('668a889073c8b630e2131b6b'), 'name': 'Bag', 'price': 23.78}\n",
      "{'_id': ObjectId('668a88e873c8b630e2131b6c'), 'name': 'iphone 11', 'price': 800}\n"
     ]
    }
   ],
   "source": [
    "for document in products_db.find({}).sort(\"price\", ASCENDING):\n",
    "    print(document)"
   ]
  },
  {
   "cell_type": "code",
   "execution_count": 106,
   "metadata": {},
   "outputs": [
    {
     "name": "stdout",
     "output_type": "stream",
     "text": [
      "{'_id': ObjectId('668a88e873c8b630e2131b6c'), 'name': 'iphone 11', 'price': 800}\n",
      "{'_id': ObjectId('668a889073c8b630e2131b6b'), 'name': 'Bag', 'price': 23.78}\n",
      "{'_id': ObjectId('668a8ac273c8b630e2131b70'), 'name': 'Water Bottle', 'price': 14.5}\n",
      "{'_id': ObjectId('668a88e873c8b630e2131b6d'), 'name': 'Notebook', 'price': 4.99}\n",
      "{'_id': ObjectId('668a8ac273c8b630e2131b71'), 'name': 'Jar', 'price': 4.99}\n",
      "{'_id': ObjectId('668a8c9f73c8b630e2131b72'), 'name': 'Mug', 'price': 2.33}\n",
      "{'_id': ObjectId('668a89d773c8b630e2131b6e'), 'name': 'Pen', 'price': 1.22}\n",
      "{'_id': ObjectId('668a8a2173c8b630e2131b6f'), 'name': 'Pen2', 'price': 1.22}\n",
      "{'_id': ObjectId('668a8e6173c8b630e2131b73'), 'name': 'Pen2', 'price': 1.22}\n"
     ]
    }
   ],
   "source": [
    "for document in products_db.find({}).sort(\"price\", DESCENDING):\n",
    "    print(document)"
   ]
  },
  {
   "cell_type": "code",
   "execution_count": 101,
   "metadata": {},
   "outputs": [
    {
     "data": {
      "text/plain": [
       "1"
      ]
     },
     "execution_count": 101,
     "metadata": {},
     "output_type": "execute_result"
    }
   ],
   "source": [
    "ASCENDING"
   ]
  },
  {
   "cell_type": "code",
   "execution_count": 102,
   "metadata": {},
   "outputs": [
    {
     "data": {
      "text/plain": [
       "-1"
      ]
     },
     "execution_count": 102,
     "metadata": {},
     "output_type": "execute_result"
    }
   ],
   "source": [
    "DESCENDING"
   ]
  },
  {
   "cell_type": "code",
   "execution_count": 107,
   "metadata": {},
   "outputs": [
    {
     "name": "stdout",
     "output_type": "stream",
     "text": [
      "{'_id': ObjectId('668a89d773c8b630e2131b6e'), 'name': 'Pen', 'price': 1.22}\n",
      "{'_id': ObjectId('668a8a2173c8b630e2131b6f'), 'name': 'Pen2', 'price': 1.22}\n",
      "{'_id': ObjectId('668a8e6173c8b630e2131b73'), 'name': 'Pen2', 'price': 1.22}\n",
      "{'_id': ObjectId('668a8c9f73c8b630e2131b72'), 'name': 'Mug', 'price': 2.33}\n",
      "{'_id': ObjectId('668a88e873c8b630e2131b6d'), 'name': 'Notebook', 'price': 4.99}\n",
      "{'_id': ObjectId('668a8ac273c8b630e2131b71'), 'name': 'Jar', 'price': 4.99}\n",
      "{'_id': ObjectId('668a8ac273c8b630e2131b70'), 'name': 'Water Bottle', 'price': 14.5}\n",
      "{'_id': ObjectId('668a889073c8b630e2131b6b'), 'name': 'Bag', 'price': 23.78}\n",
      "{'_id': ObjectId('668a88e873c8b630e2131b6c'), 'name': 'iphone 11', 'price': 800}\n"
     ]
    }
   ],
   "source": [
    "for document in products_db.find({}).sort(\"price\", 1):\n",
    "    print(document)"
   ]
  },
  {
   "cell_type": "code",
   "execution_count": 108,
   "metadata": {},
   "outputs": [
    {
     "name": "stdout",
     "output_type": "stream",
     "text": [
      "{'_id': ObjectId('668a89d773c8b630e2131b6e'), 'name': 'Pen', 'price': 1.22}\n",
      "{'_id': ObjectId('668a8a2173c8b630e2131b6f'), 'name': 'Pen2', 'price': 1.22}\n",
      "{'_id': ObjectId('668a8e6173c8b630e2131b73'), 'name': 'Pen2', 'price': 1.22}\n",
      "{'_id': ObjectId('668a8c9f73c8b630e2131b72'), 'name': 'Mug', 'price': 2.33}\n",
      "{'_id': ObjectId('668a8ac273c8b630e2131b71'), 'name': 'Jar', 'price': 4.99}\n",
      "{'_id': ObjectId('668a88e873c8b630e2131b6d'), 'name': 'Notebook', 'price': 4.99}\n",
      "{'_id': ObjectId('668a8ac273c8b630e2131b70'), 'name': 'Water Bottle', 'price': 14.5}\n",
      "{'_id': ObjectId('668a889073c8b630e2131b6b'), 'name': 'Bag', 'price': 23.78}\n",
      "{'_id': ObjectId('668a88e873c8b630e2131b6c'), 'name': 'iphone 11', 'price': 800}\n"
     ]
    }
   ],
   "source": [
    "for document in products_db.find({}).sort([(\"price\", ASCENDING),(\"name\", ASCENDING)]):\n",
    "    print(document)"
   ]
  },
  {
   "cell_type": "code",
   "execution_count": 109,
   "metadata": {},
   "outputs": [
    {
     "name": "stdout",
     "output_type": "stream",
     "text": [
      "{'_id': ObjectId('668a889073c8b630e2131b6b'), 'name': 'Bag', 'price': 23.78}\n",
      "{'_id': ObjectId('668a88e873c8b630e2131b6c'), 'name': 'iphone 11', 'price': 800}\n",
      "{'_id': ObjectId('668a88e873c8b630e2131b6d'), 'name': 'Notebook', 'price': 4.99}\n",
      "{'_id': ObjectId('668a89d773c8b630e2131b6e'), 'name': 'Pen', 'price': 1.22}\n",
      "{'_id': ObjectId('668a8a2173c8b630e2131b6f'), 'name': 'Pen2', 'price': 1.22}\n"
     ]
    }
   ],
   "source": [
    "for product in products_db.find({}).limit(5):\n",
    "    print(product)"
   ]
  },
  {
   "cell_type": "code",
   "execution_count": 110,
   "metadata": {},
   "outputs": [
    {
     "name": "stdout",
     "output_type": "stream",
     "text": [
      "{'_id': ObjectId('668a8ac273c8b630e2131b70'), 'name': 'Water Bottle', 'price': 14.5}\n",
      "{'_id': ObjectId('668a8ac273c8b630e2131b71'), 'name': 'Jar', 'price': 4.99}\n",
      "{'_id': ObjectId('668a8c9f73c8b630e2131b72'), 'name': 'Mug', 'price': 2.33}\n",
      "{'_id': ObjectId('668a8e6173c8b630e2131b73'), 'name': 'Pen2', 'price': 1.22}\n"
     ]
    }
   ],
   "source": [
    "for product in products_db.find({}).skip(5):\n",
    "    print(product)"
   ]
  },
  {
   "cell_type": "code",
   "execution_count": 111,
   "metadata": {},
   "outputs": [
    {
     "name": "stdout",
     "output_type": "stream",
     "text": [
      "\n",
      "-- Page 1 --\n",
      "{'_id': ObjectId('668a889073c8b630e2131b6b'), 'name': 'Bag', 'price': 23.78}\n",
      "{'_id': ObjectId('668a88e873c8b630e2131b6c'), 'name': 'iphone 11', 'price': 800}\n",
      "{'_id': ObjectId('668a88e873c8b630e2131b6d'), 'name': 'Notebook', 'price': 4.99}\n",
      "{'_id': ObjectId('668a89d773c8b630e2131b6e'), 'name': 'Pen', 'price': 1.22}\n",
      "{'_id': ObjectId('668a8a2173c8b630e2131b6f'), 'name': 'Pen2', 'price': 1.22}\n",
      "\n",
      "-- Page 2 --\n",
      "{'_id': ObjectId('668a8ac273c8b630e2131b70'), 'name': 'Water Bottle', 'price': 14.5}\n",
      "{'_id': ObjectId('668a8ac273c8b630e2131b71'), 'name': 'Jar', 'price': 4.99}\n",
      "{'_id': ObjectId('668a8c9f73c8b630e2131b72'), 'name': 'Mug', 'price': 2.33}\n",
      "{'_id': ObjectId('668a8e6173c8b630e2131b73'), 'name': 'Pen2', 'price': 1.22}\n"
     ]
    }
   ],
   "source": [
    "page_item_limit = 5\n",
    "for page_num in [1, 2]:\n",
    "    print(\"\\n-- Page {} --\".format(page_num))\n",
    "    # Calculate the number of products to skip\n",
    "    skip_amount = (page_num - 1) * page_item_limit\n",
    "    # Find, skip, and limit the products for the current page\n",
    "    for product in products_db.find({}).skip(skip_amount).limit(page_item_limit):\n",
    "        print(product)"
   ]
  },
  {
   "cell_type": "markdown",
   "metadata": {},
   "source": [
    "Count documents"
   ]
  },
  {
   "cell_type": "code",
   "execution_count": 112,
   "metadata": {},
   "outputs": [],
   "source": [
    "find_query_filter = {\"name\": \"Pen2\"}\n",
    "find_cursor = products_db.find(find_query_filter)"
   ]
  },
  {
   "cell_type": "code",
   "execution_count": 113,
   "metadata": {},
   "outputs": [
    {
     "name": "stderr",
     "output_type": "stream",
     "text": [
      "/var/folders/1l/xv3wqjt14cgf1mmyz0bm3bnr0000gn/T/ipykernel_12209/2083242281.py:1: DeprecationWarning: count is deprecated. Use Collection.count_documents instead.\n",
      "  find_cursor.count()\n"
     ]
    },
    {
     "data": {
      "text/plain": [
       "2"
      ]
     },
     "execution_count": 113,
     "metadata": {},
     "output_type": "execute_result"
    }
   ],
   "source": [
    "find_cursor.count()"
   ]
  },
  {
   "cell_type": "code",
   "execution_count": 117,
   "metadata": {},
   "outputs": [
    {
     "data": {
      "text/plain": [
       "2"
      ]
     },
     "execution_count": 117,
     "metadata": {},
     "output_type": "execute_result"
    }
   ],
   "source": [
    "products_db.count_documents(find_query_filter)"
   ]
  },
  {
   "cell_type": "code",
   "execution_count": 118,
   "metadata": {},
   "outputs": [
    {
     "data": {
      "text/plain": [
       "2"
      ]
     },
     "execution_count": 118,
     "metadata": {},
     "output_type": "execute_result"
    }
   ],
   "source": [
    "find_cursor_skip = products_db.find(find_query_filter).skip(1)\n",
    "products_db.count_documents(find_query_filter)"
   ]
  },
  {
   "cell_type": "code",
   "execution_count": 119,
   "metadata": {},
   "outputs": [
    {
     "name": "stderr",
     "output_type": "stream",
     "text": [
      "/var/folders/1l/xv3wqjt14cgf1mmyz0bm3bnr0000gn/T/ipykernel_12209/629907177.py:1: DeprecationWarning: count is deprecated. Use Collection.count_documents instead.\n",
      "  find_cursor_skip.count(with_limit_and_skip=True)\n"
     ]
    },
    {
     "data": {
      "text/plain": [
       "1"
      ]
     },
     "execution_count": 119,
     "metadata": {},
     "output_type": "execute_result"
    }
   ],
   "source": [
    "find_cursor_skip.count(with_limit_and_skip=True)"
   ]
  },
  {
   "cell_type": "markdown",
   "metadata": {},
   "source": [
    "Distinct"
   ]
  },
  {
   "cell_type": "code",
   "execution_count": 121,
   "metadata": {},
   "outputs": [],
   "source": [
    "product_cursor = products_db.find({})"
   ]
  },
  {
   "cell_type": "code",
   "execution_count": 124,
   "metadata": {},
   "outputs": [
    {
     "name": "stdout",
     "output_type": "stream",
     "text": [
      "8 unique product names found vs 9 total entries\n"
     ]
    }
   ],
   "source": [
    "distinct_count = product_cursor.distinct(\"name\")\n",
    "all_count = products_db.count_documents({})\n",
    "\n",
    "print(\"{} unique product names found vs {} total entries\".format(len(distinct_count), all_count))"
   ]
  },
  {
   "cell_type": "markdown",
   "metadata": {},
   "source": [
    "Using projection"
   ]
  },
  {
   "cell_type": "code",
   "execution_count": 125,
   "metadata": {},
   "outputs": [],
   "source": [
    "find_projection_cursor = products_db.find({\"name\":\"Pen2\"}, {\"_id\":0, \"price\":1})"
   ]
  },
  {
   "cell_type": "code",
   "execution_count": 126,
   "metadata": {},
   "outputs": [
    {
     "name": "stdout",
     "output_type": "stream",
     "text": [
      "{'price': 1.22}\n",
      "{'price': 1.22}\n"
     ]
    }
   ],
   "source": [
    "for document in find_projection_cursor:\n",
    "    print(document)"
   ]
  },
  {
   "cell_type": "code",
   "execution_count": 127,
   "metadata": {},
   "outputs": [
    {
     "data": {
      "text/plain": [
       "{'price': 1.22}"
      ]
     },
     "execution_count": 127,
     "metadata": {},
     "output_type": "execute_result"
    }
   ],
   "source": [
    "products_db.find_one({\"name\":\"Pen2\"}, {\"_id\":0, \"price\":1})"
   ]
  }
 ],
 "metadata": {
  "kernelspec": {
   "display_name": "venv",
   "language": "python",
   "name": "python3"
  },
  "language_info": {
   "codemirror_mode": {
    "name": "ipython",
    "version": 3
   },
   "file_extension": ".py",
   "mimetype": "text/x-python",
   "name": "python",
   "nbconvert_exporter": "python",
   "pygments_lexer": "ipython3",
   "version": "3.12.0"
  }
 },
 "nbformat": 4,
 "nbformat_minor": 2
}
