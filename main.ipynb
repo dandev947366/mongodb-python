{
 "cells": [
  {
   "cell_type": "markdown",
   "metadata": {},
   "source": [
    "MongoDB with Python"
   ]
  },
  {
   "cell_type": "code",
   "execution_count": 186,
   "metadata": {},
   "outputs": [],
   "source": [
    "from pymongo import MongoClient, errors, ASCENDING, DESCENDING\n",
    "import bson\n",
    "import time\n",
    "import pytz\n",
    "from datetime import datetime, timedelta\n"
   ]
  },
  {
   "cell_type": "code",
   "execution_count": 9,
   "metadata": {},
   "outputs": [],
   "source": [
    "# init client to connect to mongoDB\n",
    "my_client = MongoClient('mongodb://localhost:27017')"
   ]
  },
  {
   "cell_type": "code",
   "execution_count": 16,
   "metadata": {},
   "outputs": [
    {
     "data": {
      "text/plain": [
       "MongoClient(host=['localhost:27017'], document_class=dict, tz_aware=False, connect=True)"
      ]
     },
     "execution_count": 16,
     "metadata": {},
     "output_type": "execute_result"
    }
   ],
   "source": [
    "my_client"
   ]
  },
  {
   "cell_type": "code",
   "execution_count": 24,
   "metadata": {},
   "outputs": [
    {
     "data": {
      "text/plain": [
       "['SoundCloud', 'admin', 'auth_tutorial', 'config', 'local', 'store']"
      ]
     },
     "execution_count": 24,
     "metadata": {},
     "output_type": "execute_result"
    }
   ],
   "source": [
    "# connect to db\n",
    "my_client.list_database_names()"
   ]
  },
  {
   "cell_type": "code",
   "execution_count": 31,
   "metadata": {},
   "outputs": [],
   "source": [
    "# connect to db store\n",
    "db_store = my_client.store"
   ]
  },
  {
   "cell_type": "code",
   "execution_count": 26,
   "metadata": {},
   "outputs": [
    {
     "data": {
      "text/plain": [
       "Database(MongoClient(host=['localhost:27017'], document_class=dict, tz_aware=False, connect=True), 'store')"
      ]
     },
     "execution_count": 26,
     "metadata": {},
     "output_type": "execute_result"
    }
   ],
   "source": [
    "db_store"
   ]
  },
  {
   "cell_type": "code",
   "execution_count": 40,
   "metadata": {},
   "outputs": [
    {
     "name": "stdout",
     "output_type": "stream",
     "text": [
      "['admin', 'users']\n"
     ]
    }
   ],
   "source": [
    "# list collections from store db\n",
    "print(db_store.list_collection_names())"
   ]
  },
  {
   "cell_type": "code",
   "execution_count": 41,
   "metadata": {},
   "outputs": [],
   "source": [
    "users_col = db_store.users"
   ]
  },
  {
   "cell_type": "code",
   "execution_count": 42,
   "metadata": {},
   "outputs": [
    {
     "data": {
      "text/plain": [
       "Collection(Database(MongoClient(host=['localhost:27017'], document_class=dict, tz_aware=False, connect=True), 'store'), 'users')"
      ]
     },
     "execution_count": 42,
     "metadata": {},
     "output_type": "execute_result"
    }
   ],
   "source": [
    "users_col"
   ]
  },
  {
   "cell_type": "markdown",
   "metadata": {},
   "source": [
    "C - Create"
   ]
  },
  {
   "cell_type": "code",
   "execution_count": 36,
   "metadata": {},
   "outputs": [
    {
     "data": {
      "text/plain": [
       "<pymongo.results.InsertOneResult at 0x122aeb380>"
      ]
     },
     "execution_count": 36,
     "metadata": {},
     "output_type": "execute_result"
    }
   ],
   "source": [
    "users_col.insert_one({\n",
    "    \"name\": \"John\",\n",
    "    \"age\": 29\n",
    "})"
   ]
  },
  {
   "cell_type": "code",
   "execution_count": 38,
   "metadata": {},
   "outputs": [],
   "source": [
    "new_user = {\n",
    "    \"name\": \"Keanu Reeves\",\n",
    "    \"age\": 57\n",
    "}"
   ]
  },
  {
   "cell_type": "code",
   "execution_count": 39,
   "metadata": {},
   "outputs": [
    {
     "data": {
      "text/plain": [
       "<pymongo.results.InsertOneResult at 0x122c2d580>"
      ]
     },
     "execution_count": 39,
     "metadata": {},
     "output_type": "execute_result"
    }
   ],
   "source": [
    "users_col.insert_one(new_user)"
   ]
  },
  {
   "cell_type": "code",
   "execution_count": 43,
   "metadata": {},
   "outputs": [
    {
     "data": {
      "text/plain": [
       "Collection(Database(MongoClient(host=['localhost:27017'], document_class=dict, tz_aware=False, connect=True), 'store'), 'users')"
      ]
     },
     "execution_count": 43,
     "metadata": {},
     "output_type": "execute_result"
    }
   ],
   "source": [
    "users_col"
   ]
  },
  {
   "cell_type": "markdown",
   "metadata": {},
   "source": [
    "R - Read"
   ]
  },
  {
   "cell_type": "code",
   "execution_count": 46,
   "metadata": {},
   "outputs": [
    {
     "data": {
      "text/plain": [
       "{'_id': ObjectId('668a85a873c8b630e2131b6a'),\n",
       " 'name': 'Keanu Reeves',\n",
       " 'age': 57}"
      ]
     },
     "execution_count": 46,
     "metadata": {},
     "output_type": "execute_result"
    }
   ],
   "source": [
    "users_col.find_one({\"name\":\"Keanu Reeves\"})"
   ]
  },
  {
   "cell_type": "code",
   "execution_count": 47,
   "metadata": {},
   "outputs": [
    {
     "data": {
      "text/plain": [
       "{'_id': ObjectId('668a85a873c8b630e2131b6a'),\n",
       " 'name': 'Keanu Reeves',\n",
       " 'age': 57}"
      ]
     },
     "execution_count": 47,
     "metadata": {},
     "output_type": "execute_result"
    }
   ],
   "source": [
    "users_col.find_one(new_user)"
   ]
  },
  {
   "cell_type": "markdown",
   "metadata": {},
   "source": [
    "U- Update"
   ]
  },
  {
   "cell_type": "code",
   "execution_count": 48,
   "metadata": {},
   "outputs": [
    {
     "data": {
      "text/plain": [
       "<pymongo.results.UpdateResult at 0x12311ac00>"
      ]
     },
     "execution_count": 48,
     "metadata": {},
     "output_type": "execute_result"
    }
   ],
   "source": [
    "users_col.update_one({\"name\":\"John\"}, {\"$set\":{\"name\":\"Will\", \"age\":53}})"
   ]
  },
  {
   "cell_type": "markdown",
   "metadata": {},
   "source": [
    "D - Delete"
   ]
  },
  {
   "cell_type": "code",
   "execution_count": 49,
   "metadata": {},
   "outputs": [
    {
     "data": {
      "text/plain": [
       "<pymongo.results.DeleteResult at 0x122884f00>"
      ]
     },
     "execution_count": 49,
     "metadata": {},
     "output_type": "execute_result"
    }
   ],
   "source": [
    "users_col.delete_one({\"name\":\"Will\"})"
   ]
  },
  {
   "cell_type": "code",
   "execution_count": 53,
   "metadata": {},
   "outputs": [],
   "source": [
    "products_db = db_store.products"
   ]
  },
  {
   "cell_type": "code",
   "execution_count": 51,
   "metadata": {},
   "outputs": [],
   "source": [
    "bag = {\"name\": \"Bag\", \"price\":23.78}"
   ]
  },
  {
   "cell_type": "code",
   "execution_count": 52,
   "metadata": {},
   "outputs": [
    {
     "name": "stderr",
     "output_type": "stream",
     "text": [
      "/var/folders/1l/xv3wqjt14cgf1mmyz0bm3bnr0000gn/T/ipykernel_12209/1657952950.py:1: DeprecationWarning: insert is deprecated. Use insert_one or insert_many instead.\n",
      "  products_db.insert(bag)\n"
     ]
    },
    {
     "data": {
      "text/plain": [
       "ObjectId('668a889073c8b630e2131b6b')"
      ]
     },
     "execution_count": 52,
     "metadata": {},
     "output_type": "execute_result"
    }
   ],
   "source": [
    "products_db.insert(bag)"
   ]
  },
  {
   "cell_type": "code",
   "execution_count": 55,
   "metadata": {},
   "outputs": [],
   "source": [
    "phone = {\"name\":\"iphone 11\", \"price\": 800}\n",
    "notebook = {\"name\":\"Notebook\", \"price\": 4.99}"
   ]
  },
  {
   "cell_type": "code",
   "execution_count": 56,
   "metadata": {},
   "outputs": [
    {
     "data": {
      "text/plain": [
       "<pymongo.results.InsertManyResult at 0x1231bb000>"
      ]
     },
     "execution_count": 56,
     "metadata": {},
     "output_type": "execute_result"
    }
   ],
   "source": [
    "products_db.insert_many([phone, notebook])"
   ]
  },
  {
   "cell_type": "code",
   "execution_count": 75,
   "metadata": {},
   "outputs": [],
   "source": [
    "pen = {\"name\":\"Pen2\", \"price\":1.22}\n",
    "insert_pen = products_db.insert_one(pen)"
   ]
  },
  {
   "cell_type": "code",
   "execution_count": 59,
   "metadata": {},
   "outputs": [
    {
     "name": "stdout",
     "output_type": "stream",
     "text": [
      "True\n",
      "668a8a2173c8b630e2131b6f\n"
     ]
    }
   ],
   "source": [
    "print(insert_pen.acknowledged)\n",
    "print(insert_pen.inserted_id)"
   ]
  },
  {
   "cell_type": "code",
   "execution_count": 60,
   "metadata": {},
   "outputs": [
    {
     "data": {
      "text/plain": [
       "<pymongo.results.InsertManyResult at 0x1228afa40>"
      ]
     },
     "execution_count": 60,
     "metadata": {},
     "output_type": "execute_result"
    }
   ],
   "source": [
    "water_bottle = {\"name\":\"Water Bottle\", \"price\": 14.5}\n",
    "jar = {\"name\":\"Jar\", \"price\":4.99}\n",
    "insert_several = products_db.insert_many([water_bottle, jar])\n",
    "insert_several"
   ]
  },
  {
   "cell_type": "code",
   "execution_count": 61,
   "metadata": {},
   "outputs": [
    {
     "name": "stdout",
     "output_type": "stream",
     "text": [
      "True\n",
      "[ObjectId('668a8ac273c8b630e2131b70'), ObjectId('668a8ac273c8b630e2131b71')]\n"
     ]
    }
   ],
   "source": [
    "print(insert_several.acknowledged)\n",
    "print(insert_several.inserted_ids)\n"
   ]
  },
  {
   "cell_type": "markdown",
   "metadata": {},
   "source": [
    "Error Handling When Inserting"
   ]
  },
  {
   "cell_type": "code",
   "execution_count": 67,
   "metadata": {},
   "outputs": [
    {
     "name": "stdout",
     "output_type": "stream",
     "text": [
      "Duplicate Entry Detected\n"
     ]
    }
   ],
   "source": [
    "try:\n",
    "    products_db.insert_one(pen)\n",
    "except errors.DuplicateKeyError:\n",
    "    print(\"Duplicate Entry Detected\")"
   ]
  },
  {
   "cell_type": "code",
   "execution_count": 69,
   "metadata": {},
   "outputs": [
    {
     "name": "stdout",
     "output_type": "stream",
     "text": [
      "Bulk Error Detected\n"
     ]
    }
   ],
   "source": [
    "try:\n",
    "    products_db.insert_many([water_bottle, jar])\n",
    "except errors.BulkWriteError:\n",
    "    print(\"Bulk Error Detected\")"
   ]
  },
  {
   "cell_type": "code",
   "execution_count": 70,
   "metadata": {},
   "outputs": [
    {
     "name": "stdout",
     "output_type": "stream",
     "text": [
      "Bulk Error Detected\n"
     ]
    }
   ],
   "source": [
    "mug = {\"name\":\"Mug\", \"price\":2.33}\n",
    "try:\n",
    "    products_db.insert_many([mug, jar])\n",
    "except errors.BulkWriteError:\n",
    "    print(\"Bulk Error Detected\")"
   ]
  },
  {
   "cell_type": "code",
   "execution_count": 71,
   "metadata": {},
   "outputs": [
    {
     "data": {
      "text/plain": [
       "Collection(Database(MongoClient(host=['localhost:27017'], document_class=dict, tz_aware=False, connect=True), 'store'), 'products')"
      ]
     },
     "execution_count": 71,
     "metadata": {},
     "output_type": "execute_result"
    }
   ],
   "source": [
    "products_db"
   ]
  },
  {
   "cell_type": "markdown",
   "metadata": {},
   "source": [
    "Find Functionality"
   ]
  },
  {
   "cell_type": "code",
   "execution_count": 72,
   "metadata": {},
   "outputs": [],
   "source": [
    "found_pen = products_db.find_one({\"name\":\"Pen\"})"
   ]
  },
  {
   "cell_type": "code",
   "execution_count": 73,
   "metadata": {},
   "outputs": [
    {
     "data": {
      "text/plain": [
       "ObjectId('668a89d773c8b630e2131b6e')"
      ]
     },
     "execution_count": 73,
     "metadata": {},
     "output_type": "execute_result"
    }
   ],
   "source": [
    "found_pen[\"_id\"]"
   ]
  },
  {
   "cell_type": "code",
   "execution_count": 76,
   "metadata": {},
   "outputs": [
    {
     "data": {
      "text/plain": [
       "<pymongo.cursor.Cursor at 0x122e2daf0>"
      ]
     },
     "execution_count": 76,
     "metadata": {},
     "output_type": "execute_result"
    }
   ],
   "source": [
    "# cursor\n",
    "products_db.find({\"name\":\"Pen2\"})"
   ]
  },
  {
   "cell_type": "code",
   "execution_count": 79,
   "metadata": {},
   "outputs": [
    {
     "name": "stdout",
     "output_type": "stream",
     "text": [
      "668a8a2173c8b630e2131b6f\n",
      "668a8e6173c8b630e2131b73\n"
     ]
    }
   ],
   "source": [
    "pen_cursor = products_db.find({\"name\":\"Pen2\"})\n",
    "for pen in pen_cursor:\n",
    "    print(pen[\"_id\"])"
   ]
  },
  {
   "cell_type": "code",
   "execution_count": 81,
   "metadata": {},
   "outputs": [
    {
     "data": {
      "text/plain": [
       "False"
      ]
     },
     "execution_count": 81,
     "metadata": {},
     "output_type": "execute_result"
    }
   ],
   "source": [
    "pen_cursor.alive #cursor went through all results"
   ]
  },
  {
   "cell_type": "code",
   "execution_count": 94,
   "metadata": {},
   "outputs": [
    {
     "data": {
      "text/plain": [
       "True"
      ]
     },
     "execution_count": 94,
     "metadata": {},
     "output_type": "execute_result"
    }
   ],
   "source": [
    "pen_cursor = products_db.find({\"name\":\"Pen2\"})\n",
    "pen_cursor.alive #cursor has not gone through all results"
   ]
  },
  {
   "cell_type": "code",
   "execution_count": 95,
   "metadata": {},
   "outputs": [
    {
     "data": {
      "text/plain": [
       "{'_id': ObjectId('668a8a2173c8b630e2131b6f'), 'name': 'Pen2', 'price': 1.22}"
      ]
     },
     "execution_count": 95,
     "metadata": {},
     "output_type": "execute_result"
    }
   ],
   "source": [
    "pen_cursor.next()"
   ]
  },
  {
   "cell_type": "markdown",
   "metadata": {},
   "source": [
    "Sorting"
   ]
  },
  {
   "cell_type": "code",
   "execution_count": 105,
   "metadata": {},
   "outputs": [
    {
     "name": "stdout",
     "output_type": "stream",
     "text": [
      "{'_id': ObjectId('668a89d773c8b630e2131b6e'), 'name': 'Pen', 'price': 1.22}\n",
      "{'_id': ObjectId('668a8a2173c8b630e2131b6f'), 'name': 'Pen2', 'price': 1.22}\n",
      "{'_id': ObjectId('668a8e6173c8b630e2131b73'), 'name': 'Pen2', 'price': 1.22}\n",
      "{'_id': ObjectId('668a8c9f73c8b630e2131b72'), 'name': 'Mug', 'price': 2.33}\n",
      "{'_id': ObjectId('668a88e873c8b630e2131b6d'), 'name': 'Notebook', 'price': 4.99}\n",
      "{'_id': ObjectId('668a8ac273c8b630e2131b71'), 'name': 'Jar', 'price': 4.99}\n",
      "{'_id': ObjectId('668a8ac273c8b630e2131b70'), 'name': 'Water Bottle', 'price': 14.5}\n",
      "{'_id': ObjectId('668a889073c8b630e2131b6b'), 'name': 'Bag', 'price': 23.78}\n",
      "{'_id': ObjectId('668a88e873c8b630e2131b6c'), 'name': 'iphone 11', 'price': 800}\n"
     ]
    }
   ],
   "source": [
    "for document in products_db.find({}).sort(\"price\", ASCENDING):\n",
    "    print(document)"
   ]
  },
  {
   "cell_type": "code",
   "execution_count": 106,
   "metadata": {},
   "outputs": [
    {
     "name": "stdout",
     "output_type": "stream",
     "text": [
      "{'_id': ObjectId('668a88e873c8b630e2131b6c'), 'name': 'iphone 11', 'price': 800}\n",
      "{'_id': ObjectId('668a889073c8b630e2131b6b'), 'name': 'Bag', 'price': 23.78}\n",
      "{'_id': ObjectId('668a8ac273c8b630e2131b70'), 'name': 'Water Bottle', 'price': 14.5}\n",
      "{'_id': ObjectId('668a88e873c8b630e2131b6d'), 'name': 'Notebook', 'price': 4.99}\n",
      "{'_id': ObjectId('668a8ac273c8b630e2131b71'), 'name': 'Jar', 'price': 4.99}\n",
      "{'_id': ObjectId('668a8c9f73c8b630e2131b72'), 'name': 'Mug', 'price': 2.33}\n",
      "{'_id': ObjectId('668a89d773c8b630e2131b6e'), 'name': 'Pen', 'price': 1.22}\n",
      "{'_id': ObjectId('668a8a2173c8b630e2131b6f'), 'name': 'Pen2', 'price': 1.22}\n",
      "{'_id': ObjectId('668a8e6173c8b630e2131b73'), 'name': 'Pen2', 'price': 1.22}\n"
     ]
    }
   ],
   "source": [
    "for document in products_db.find({}).sort(\"price\", DESCENDING):\n",
    "    print(document)"
   ]
  },
  {
   "cell_type": "code",
   "execution_count": 101,
   "metadata": {},
   "outputs": [
    {
     "data": {
      "text/plain": [
       "1"
      ]
     },
     "execution_count": 101,
     "metadata": {},
     "output_type": "execute_result"
    }
   ],
   "source": [
    "ASCENDING"
   ]
  },
  {
   "cell_type": "code",
   "execution_count": 102,
   "metadata": {},
   "outputs": [
    {
     "data": {
      "text/plain": [
       "-1"
      ]
     },
     "execution_count": 102,
     "metadata": {},
     "output_type": "execute_result"
    }
   ],
   "source": [
    "DESCENDING"
   ]
  },
  {
   "cell_type": "code",
   "execution_count": 107,
   "metadata": {},
   "outputs": [
    {
     "name": "stdout",
     "output_type": "stream",
     "text": [
      "{'_id': ObjectId('668a89d773c8b630e2131b6e'), 'name': 'Pen', 'price': 1.22}\n",
      "{'_id': ObjectId('668a8a2173c8b630e2131b6f'), 'name': 'Pen2', 'price': 1.22}\n",
      "{'_id': ObjectId('668a8e6173c8b630e2131b73'), 'name': 'Pen2', 'price': 1.22}\n",
      "{'_id': ObjectId('668a8c9f73c8b630e2131b72'), 'name': 'Mug', 'price': 2.33}\n",
      "{'_id': ObjectId('668a88e873c8b630e2131b6d'), 'name': 'Notebook', 'price': 4.99}\n",
      "{'_id': ObjectId('668a8ac273c8b630e2131b71'), 'name': 'Jar', 'price': 4.99}\n",
      "{'_id': ObjectId('668a8ac273c8b630e2131b70'), 'name': 'Water Bottle', 'price': 14.5}\n",
      "{'_id': ObjectId('668a889073c8b630e2131b6b'), 'name': 'Bag', 'price': 23.78}\n",
      "{'_id': ObjectId('668a88e873c8b630e2131b6c'), 'name': 'iphone 11', 'price': 800}\n"
     ]
    }
   ],
   "source": [
    "for document in products_db.find({}).sort(\"price\", 1):\n",
    "    print(document)"
   ]
  },
  {
   "cell_type": "code",
   "execution_count": 108,
   "metadata": {},
   "outputs": [
    {
     "name": "stdout",
     "output_type": "stream",
     "text": [
      "{'_id': ObjectId('668a89d773c8b630e2131b6e'), 'name': 'Pen', 'price': 1.22}\n",
      "{'_id': ObjectId('668a8a2173c8b630e2131b6f'), 'name': 'Pen2', 'price': 1.22}\n",
      "{'_id': ObjectId('668a8e6173c8b630e2131b73'), 'name': 'Pen2', 'price': 1.22}\n",
      "{'_id': ObjectId('668a8c9f73c8b630e2131b72'), 'name': 'Mug', 'price': 2.33}\n",
      "{'_id': ObjectId('668a8ac273c8b630e2131b71'), 'name': 'Jar', 'price': 4.99}\n",
      "{'_id': ObjectId('668a88e873c8b630e2131b6d'), 'name': 'Notebook', 'price': 4.99}\n",
      "{'_id': ObjectId('668a8ac273c8b630e2131b70'), 'name': 'Water Bottle', 'price': 14.5}\n",
      "{'_id': ObjectId('668a889073c8b630e2131b6b'), 'name': 'Bag', 'price': 23.78}\n",
      "{'_id': ObjectId('668a88e873c8b630e2131b6c'), 'name': 'iphone 11', 'price': 800}\n"
     ]
    }
   ],
   "source": [
    "for document in products_db.find({}).sort([(\"price\", ASCENDING),(\"name\", ASCENDING)]):\n",
    "    print(document)"
   ]
  },
  {
   "cell_type": "code",
   "execution_count": 109,
   "metadata": {},
   "outputs": [
    {
     "name": "stdout",
     "output_type": "stream",
     "text": [
      "{'_id': ObjectId('668a889073c8b630e2131b6b'), 'name': 'Bag', 'price': 23.78}\n",
      "{'_id': ObjectId('668a88e873c8b630e2131b6c'), 'name': 'iphone 11', 'price': 800}\n",
      "{'_id': ObjectId('668a88e873c8b630e2131b6d'), 'name': 'Notebook', 'price': 4.99}\n",
      "{'_id': ObjectId('668a89d773c8b630e2131b6e'), 'name': 'Pen', 'price': 1.22}\n",
      "{'_id': ObjectId('668a8a2173c8b630e2131b6f'), 'name': 'Pen2', 'price': 1.22}\n"
     ]
    }
   ],
   "source": [
    "for product in products_db.find({}).limit(5):\n",
    "    print(product)"
   ]
  },
  {
   "cell_type": "code",
   "execution_count": 110,
   "metadata": {},
   "outputs": [
    {
     "name": "stdout",
     "output_type": "stream",
     "text": [
      "{'_id': ObjectId('668a8ac273c8b630e2131b70'), 'name': 'Water Bottle', 'price': 14.5}\n",
      "{'_id': ObjectId('668a8ac273c8b630e2131b71'), 'name': 'Jar', 'price': 4.99}\n",
      "{'_id': ObjectId('668a8c9f73c8b630e2131b72'), 'name': 'Mug', 'price': 2.33}\n",
      "{'_id': ObjectId('668a8e6173c8b630e2131b73'), 'name': 'Pen2', 'price': 1.22}\n"
     ]
    }
   ],
   "source": [
    "for product in products_db.find({}).skip(5):\n",
    "    print(product)"
   ]
  },
  {
   "cell_type": "code",
   "execution_count": 111,
   "metadata": {},
   "outputs": [
    {
     "name": "stdout",
     "output_type": "stream",
     "text": [
      "\n",
      "-- Page 1 --\n",
      "{'_id': ObjectId('668a889073c8b630e2131b6b'), 'name': 'Bag', 'price': 23.78}\n",
      "{'_id': ObjectId('668a88e873c8b630e2131b6c'), 'name': 'iphone 11', 'price': 800}\n",
      "{'_id': ObjectId('668a88e873c8b630e2131b6d'), 'name': 'Notebook', 'price': 4.99}\n",
      "{'_id': ObjectId('668a89d773c8b630e2131b6e'), 'name': 'Pen', 'price': 1.22}\n",
      "{'_id': ObjectId('668a8a2173c8b630e2131b6f'), 'name': 'Pen2', 'price': 1.22}\n",
      "\n",
      "-- Page 2 --\n",
      "{'_id': ObjectId('668a8ac273c8b630e2131b70'), 'name': 'Water Bottle', 'price': 14.5}\n",
      "{'_id': ObjectId('668a8ac273c8b630e2131b71'), 'name': 'Jar', 'price': 4.99}\n",
      "{'_id': ObjectId('668a8c9f73c8b630e2131b72'), 'name': 'Mug', 'price': 2.33}\n",
      "{'_id': ObjectId('668a8e6173c8b630e2131b73'), 'name': 'Pen2', 'price': 1.22}\n"
     ]
    }
   ],
   "source": [
    "page_item_limit = 5\n",
    "for page_num in [1, 2]:\n",
    "    print(\"\\n-- Page {} --\".format(page_num))\n",
    "    # Calculate the number of products to skip\n",
    "    skip_amount = (page_num - 1) * page_item_limit\n",
    "    # Find, skip, and limit the products for the current page\n",
    "    for product in products_db.find({}).skip(skip_amount).limit(page_item_limit):\n",
    "        print(product)"
   ]
  },
  {
   "cell_type": "markdown",
   "metadata": {},
   "source": [
    "Count documents"
   ]
  },
  {
   "cell_type": "code",
   "execution_count": 112,
   "metadata": {},
   "outputs": [],
   "source": [
    "find_query_filter = {\"name\": \"Pen2\"}\n",
    "find_cursor = products_db.find(find_query_filter)"
   ]
  },
  {
   "cell_type": "code",
   "execution_count": 113,
   "metadata": {},
   "outputs": [
    {
     "name": "stderr",
     "output_type": "stream",
     "text": [
      "/var/folders/1l/xv3wqjt14cgf1mmyz0bm3bnr0000gn/T/ipykernel_12209/2083242281.py:1: DeprecationWarning: count is deprecated. Use Collection.count_documents instead.\n",
      "  find_cursor.count()\n"
     ]
    },
    {
     "data": {
      "text/plain": [
       "2"
      ]
     },
     "execution_count": 113,
     "metadata": {},
     "output_type": "execute_result"
    }
   ],
   "source": [
    "find_cursor.count()"
   ]
  },
  {
   "cell_type": "code",
   "execution_count": 117,
   "metadata": {},
   "outputs": [
    {
     "data": {
      "text/plain": [
       "2"
      ]
     },
     "execution_count": 117,
     "metadata": {},
     "output_type": "execute_result"
    }
   ],
   "source": [
    "products_db.count_documents(find_query_filter)"
   ]
  },
  {
   "cell_type": "code",
   "execution_count": 118,
   "metadata": {},
   "outputs": [
    {
     "data": {
      "text/plain": [
       "2"
      ]
     },
     "execution_count": 118,
     "metadata": {},
     "output_type": "execute_result"
    }
   ],
   "source": [
    "find_cursor_skip = products_db.find(find_query_filter).skip(1)\n",
    "products_db.count_documents(find_query_filter)"
   ]
  },
  {
   "cell_type": "code",
   "execution_count": 119,
   "metadata": {},
   "outputs": [
    {
     "name": "stderr",
     "output_type": "stream",
     "text": [
      "/var/folders/1l/xv3wqjt14cgf1mmyz0bm3bnr0000gn/T/ipykernel_12209/629907177.py:1: DeprecationWarning: count is deprecated. Use Collection.count_documents instead.\n",
      "  find_cursor_skip.count(with_limit_and_skip=True)\n"
     ]
    },
    {
     "data": {
      "text/plain": [
       "1"
      ]
     },
     "execution_count": 119,
     "metadata": {},
     "output_type": "execute_result"
    }
   ],
   "source": [
    "find_cursor_skip.count(with_limit_and_skip=True)"
   ]
  },
  {
   "cell_type": "markdown",
   "metadata": {},
   "source": [
    "Distinct"
   ]
  },
  {
   "cell_type": "code",
   "execution_count": 121,
   "metadata": {},
   "outputs": [],
   "source": [
    "product_cursor = products_db.find({})"
   ]
  },
  {
   "cell_type": "code",
   "execution_count": 124,
   "metadata": {},
   "outputs": [
    {
     "name": "stdout",
     "output_type": "stream",
     "text": [
      "8 unique product names found vs 9 total entries\n"
     ]
    }
   ],
   "source": [
    "distinct_count = product_cursor.distinct(\"name\")\n",
    "all_count = products_db.count_documents({})\n",
    "\n",
    "print(\"{} unique product names found vs {} total entries\".format(len(distinct_count), all_count))"
   ]
  },
  {
   "cell_type": "markdown",
   "metadata": {},
   "source": [
    "Using projection"
   ]
  },
  {
   "cell_type": "code",
   "execution_count": 125,
   "metadata": {},
   "outputs": [],
   "source": [
    "find_projection_cursor = products_db.find({\"name\":\"Pen2\"}, {\"_id\":0, \"price\":1})"
   ]
  },
  {
   "cell_type": "code",
   "execution_count": 126,
   "metadata": {},
   "outputs": [
    {
     "name": "stdout",
     "output_type": "stream",
     "text": [
      "{'price': 1.22}\n",
      "{'price': 1.22}\n"
     ]
    }
   ],
   "source": [
    "for document in find_projection_cursor:\n",
    "    print(document)"
   ]
  },
  {
   "cell_type": "code",
   "execution_count": 127,
   "metadata": {},
   "outputs": [
    {
     "data": {
      "text/plain": [
       "{'price': 1.22}"
      ]
     },
     "execution_count": 127,
     "metadata": {},
     "output_type": "execute_result"
    }
   ],
   "source": [
    "products_db.find_one({\"name\":\"Pen2\"}, {\"_id\":0, \"price\":1})"
   ]
  },
  {
   "cell_type": "markdown",
   "metadata": {},
   "source": [
    "Comparision Operator"
   ]
  },
  {
   "cell_type": "code",
   "execution_count": 131,
   "metadata": {},
   "outputs": [],
   "source": [
    "def print_cursor(cursor):\n",
    "    for document in cursor:\n",
    "        print(document)"
   ]
  },
  {
   "cell_type": "code",
   "execution_count": 132,
   "metadata": {},
   "outputs": [],
   "source": [
    "lt_cursor = products_db.find({\"price\":{\"$lt\":2}})"
   ]
  },
  {
   "cell_type": "code",
   "execution_count": 133,
   "metadata": {},
   "outputs": [
    {
     "name": "stdout",
     "output_type": "stream",
     "text": [
      "{'_id': ObjectId('668a89d773c8b630e2131b6e'), 'name': 'Pen', 'price': 1.22}\n",
      "{'_id': ObjectId('668a8a2173c8b630e2131b6f'), 'name': 'Pen2', 'price': 1.22}\n",
      "{'_id': ObjectId('668a8e6173c8b630e2131b73'), 'name': 'Pen2', 'price': 1.22}\n"
     ]
    }
   ],
   "source": [
    "print_cursor(lt_cursor)"
   ]
  },
  {
   "cell_type": "code",
   "execution_count": 135,
   "metadata": {},
   "outputs": [
    {
     "name": "stdout",
     "output_type": "stream",
     "text": [
      "{'_id': ObjectId('668a88e873c8b630e2131b6d'), 'name': 'Notebook', 'price': 4.99}\n",
      "{'_id': ObjectId('668a8ac273c8b630e2131b71'), 'name': 'Jar', 'price': 4.99}\n",
      "{'_id': ObjectId('668a8c9f73c8b630e2131b72'), 'name': 'Mug', 'price': 2.33}\n"
     ]
    }
   ],
   "source": [
    "lt_gte_cursor = products_db.find({\"price\":{\"$lt\": 10, \"$gte\": 2}})\n",
    "print_cursor(lt_gte_cursor)"
   ]
  },
  {
   "cell_type": "code",
   "execution_count": 138,
   "metadata": {},
   "outputs": [
    {
     "name": "stdout",
     "output_type": "stream",
     "text": [
      "{'_id': ObjectId('668a88e873c8b630e2131b6d'), 'name': 'Notebook', 'price': 4.99}\n",
      "{'_id': ObjectId('668a89d773c8b630e2131b6e'), 'name': 'Pen', 'price': 1.22}\n",
      "{'_id': ObjectId('668a8a2173c8b630e2131b6f'), 'name': 'Pen2', 'price': 1.22}\n",
      "{'_id': ObjectId('668a8c9f73c8b630e2131b72'), 'name': 'Mug', 'price': 2.33}\n",
      "{'_id': ObjectId('668a8e6173c8b630e2131b73'), 'name': 'Pen2', 'price': 1.22}\n"
     ]
    }
   ],
   "source": [
    "lt_ne_cursor = products_db.find({\"price\": {\"$lt\": 5}, \"name\": {\"$ne\": \"Jar\"}})\n",
    "print_cursor(lt_ne_cursor)"
   ]
  },
  {
   "cell_type": "markdown",
   "metadata": {},
   "source": [
    "Logical Operators"
   ]
  },
  {
   "cell_type": "code",
   "execution_count": 140,
   "metadata": {},
   "outputs": [
    {
     "name": "stdout",
     "output_type": "stream",
     "text": [
      "{'_id': ObjectId('668a88e873c8b630e2131b6d'), 'name': 'Notebook', 'price': 4.99}\n",
      "{'_id': ObjectId('668a89d773c8b630e2131b6e'), 'name': 'Pen', 'price': 1.22}\n",
      "{'_id': ObjectId('668a8a2173c8b630e2131b6f'), 'name': 'Pen2', 'price': 1.22}\n",
      "{'_id': ObjectId('668a8ac273c8b630e2131b71'), 'name': 'Jar', 'price': 4.99}\n",
      "{'_id': ObjectId('668a8e6173c8b630e2131b73'), 'name': 'Pen2', 'price': 1.22}\n"
     ]
    }
   ],
   "source": [
    "and_cursor = products_db.find(\n",
    "    {\"$and\":[\n",
    "        {\"price\":{\"$lt\":5}},\n",
    "        {\"name\":{\"$ne\":\"Mug\"}}\n",
    "    ]})\n",
    "print_cursor(and_cursor)"
   ]
  },
  {
   "cell_type": "code",
   "execution_count": 141,
   "metadata": {},
   "outputs": [
    {
     "name": "stdout",
     "output_type": "stream",
     "text": [
      "{'_id': ObjectId('668a889073c8b630e2131b6b'), 'name': 'Bag', 'price': 23.78}\n",
      "{'_id': ObjectId('668a88e873c8b630e2131b6c'), 'name': 'iphone 11', 'price': 800}\n",
      "{'_id': ObjectId('668a88e873c8b630e2131b6d'), 'name': 'Notebook', 'price': 4.99}\n",
      "{'_id': ObjectId('668a89d773c8b630e2131b6e'), 'name': 'Pen', 'price': 1.22}\n",
      "{'_id': ObjectId('668a8a2173c8b630e2131b6f'), 'name': 'Pen2', 'price': 1.22}\n",
      "{'_id': ObjectId('668a8ac273c8b630e2131b70'), 'name': 'Water Bottle', 'price': 14.5}\n",
      "{'_id': ObjectId('668a8ac273c8b630e2131b71'), 'name': 'Jar', 'price': 4.99}\n",
      "{'_id': ObjectId('668a8c9f73c8b630e2131b72'), 'name': 'Mug', 'price': 2.33}\n",
      "{'_id': ObjectId('668a8e6173c8b630e2131b73'), 'name': 'Pen2', 'price': 1.22}\n"
     ]
    }
   ],
   "source": [
    "or_cursor = products_db.find(\n",
    "    {\"$or\":[\n",
    "        {\"price\":{\"$lt\":5}},\n",
    "        {\"price\":{\"$gt\":2}}\n",
    "    ]})\n",
    "print_cursor(or_cursor)"
   ]
  },
  {
   "cell_type": "code",
   "execution_count": 144,
   "metadata": {},
   "outputs": [
    {
     "name": "stdout",
     "output_type": "stream",
     "text": [
      "{'_id': ObjectId('668a88e873c8b630e2131b6d'), 'name': 'Notebook', 'price': 4.99}\n",
      "{'_id': ObjectId('668a8ac273c8b630e2131b71'), 'name': 'Jar', 'price': 4.99}\n",
      "{'_id': ObjectId('668a8c9f73c8b630e2131b72'), 'name': 'Mug', 'price': 2.33}\n"
     ]
    }
   ],
   "source": [
    "nor_cursor = products_db.find(\n",
    "    {\"$nor\":[\n",
    "        {\"price\":{\"$lt\":2}},\n",
    "        {\"price\":{\"$gt\":5}}\n",
    "    ]})\n",
    "print_cursor(nor_cursor)"
   ]
  },
  {
   "cell_type": "code",
   "execution_count": 147,
   "metadata": {},
   "outputs": [
    {
     "name": "stdout",
     "output_type": "stream",
     "text": [
      "{'_id': ObjectId('668a88e873c8b630e2131b6c'), 'name': 'iphone 11', 'price': 800}\n"
     ]
    }
   ],
   "source": [
    "type_cursor = products_db.find({\"price\":{\"$type\":\"int\"}})\n",
    "print_cursor(type_cursor)"
   ]
  },
  {
   "cell_type": "code",
   "execution_count": 150,
   "metadata": {},
   "outputs": [
    {
     "name": "stdout",
     "output_type": "stream",
     "text": [
      "{'_id': ObjectId('668a8a2173c8b630e2131b6f'), 'name': 'Pen2', 'price': 1.22, 'seller': 'Dan'}\n"
     ]
    }
   ],
   "source": [
    "exists_cursor = products_db.find({\"seller\":{\"$exists\": True}})\n",
    "print_cursor(exists_cursor)"
   ]
  },
  {
   "cell_type": "code",
   "execution_count": 156,
   "metadata": {},
   "outputs": [
    {
     "name": "stdout",
     "output_type": "stream",
     "text": [
      "{'_id': ObjectId('668a8ac273c8b630e2131b70'), 'name': 'Water Bottle', 'price': 14.5}\n"
     ]
    }
   ],
   "source": [
    "regex_cursor = products_db.find({\"name\":{\"$regex\":\"water\", \"$options\":\"i\"}})\n",
    "print_cursor(regex_cursor)"
   ]
  },
  {
   "cell_type": "markdown",
   "metadata": {},
   "source": [
    "Update Functionality"
   ]
  },
  {
   "cell_type": "code",
   "execution_count": 158,
   "metadata": {},
   "outputs": [
    {
     "name": "stderr",
     "output_type": "stream",
     "text": [
      "/var/folders/1l/xv3wqjt14cgf1mmyz0bm3bnr0000gn/T/ipykernel_12209/1806000331.py:1: DeprecationWarning: update is deprecated. Use replace_one, update_one or update_many instead.\n",
      "  products_db.update({\"name\":\"Pen\"},{\"$set\":{\"price\": 3.22}})\n"
     ]
    },
    {
     "data": {
      "text/plain": [
       "{'n': 1, 'nModified': 1, 'ok': 1.0, 'updatedExisting': True}"
      ]
     },
     "execution_count": 158,
     "metadata": {},
     "output_type": "execute_result"
    }
   ],
   "source": [
    "products_db.update({\"name\":\"Pen\"},{\"$set\":{\"price\": 3.22}})"
   ]
  },
  {
   "cell_type": "code",
   "execution_count": 161,
   "metadata": {},
   "outputs": [],
   "source": [
    "bag_update = products_db.update_one({\"name\":\"Bag\"},{\"$set\":{\"price\": 24.38}})"
   ]
  },
  {
   "cell_type": "code",
   "execution_count": 163,
   "metadata": {},
   "outputs": [
    {
     "name": "stdout",
     "output_type": "stream",
     "text": [
      "True\n",
      "1\n",
      "0\n",
      "{'n': 1, 'nModified': 0, 'ok': 1.0, 'updatedExisting': True}\n",
      "None\n"
     ]
    }
   ],
   "source": [
    "print(bag_update.acknowledged)\n",
    "print(bag_update.matched_count)\n",
    "print(bag_update.modified_count)\n",
    "print(bag_update.raw_result)\n",
    "print(bag_update.upserted_id)"
   ]
  },
  {
   "cell_type": "code",
   "execution_count": 164,
   "metadata": {},
   "outputs": [],
   "source": [
    "replace_bag = products_db.replace_one({\"name\":\"Bag\"},{\"product_name\":\"Bag\", \"price\":28.77, \"seller\":\"Dan\"})"
   ]
  },
  {
   "cell_type": "code",
   "execution_count": 167,
   "metadata": {},
   "outputs": [
    {
     "name": "stdout",
     "output_type": "stream",
     "text": [
      "True\n",
      "1\n",
      "1\n",
      "{'n': 1, 'nModified': 1, 'ok': 1.0, 'updatedExisting': True}\n",
      "None\n"
     ]
    }
   ],
   "source": [
    "print(replace_bag.acknowledged)\n",
    "print(replace_bag.matched_count)\n",
    "print(replace_bag.modified_count)\n",
    "print(replace_bag.raw_result)\n",
    "print(replace_bag.upserted_id)"
   ]
  },
  {
   "cell_type": "code",
   "execution_count": 170,
   "metadata": {},
   "outputs": [
    {
     "data": {
      "text/plain": [
       "<pymongo.results.UpdateResult at 0x123170600>"
      ]
     },
     "execution_count": 170,
     "metadata": {},
     "output_type": "execute_result"
    }
   ],
   "source": [
    "update_many_pro = products_db.update_many({\"name\":\"Pen2\"},{\"$set\": {\"price\": 3.5}})\n",
    "update_many_pro"
   ]
  },
  {
   "cell_type": "code",
   "execution_count": 171,
   "metadata": {},
   "outputs": [
    {
     "name": "stdout",
     "output_type": "stream",
     "text": [
      "True\n",
      "2\n",
      "2\n",
      "{'n': 2, 'nModified': 2, 'ok': 1.0, 'updatedExisting': True}\n",
      "None\n"
     ]
    }
   ],
   "source": [
    "print(update_many_pro.acknowledged)\n",
    "print(update_many_pro.matched_count)\n",
    "print(update_many_pro.modified_count)\n",
    "print(update_many_pro.raw_result)\n",
    "print(update_many_pro.upserted_id)"
   ]
  },
  {
   "cell_type": "code",
   "execution_count": 174,
   "metadata": {},
   "outputs": [
    {
     "data": {
      "text/plain": [
       "<pymongo.results.UpdateResult at 0x12415e300>"
      ]
     },
     "execution_count": 174,
     "metadata": {},
     "output_type": "execute_result"
    }
   ],
   "source": [
    "update_upsert_res = products_db.update_many({\"name\":\"Hat\"},{\"$set\": {\"price\": 3.5}}, upsert=True)\n",
    "update_upsert_res"
   ]
  },
  {
   "cell_type": "code",
   "execution_count": 175,
   "metadata": {},
   "outputs": [
    {
     "name": "stdout",
     "output_type": "stream",
     "text": [
      "True\n",
      "0\n",
      "0\n",
      "{'n': 1, 'upserted': ObjectId('668ac9b9c68bee2ffe349b61'), 'nModified': 0, 'ok': 1.0, 'updatedExisting': False}\n",
      "668ac9b9c68bee2ffe349b61\n"
     ]
    }
   ],
   "source": [
    "print(update_upsert_res.acknowledged)\n",
    "print(update_upsert_res.matched_count)\n",
    "print(update_upsert_res.modified_count)\n",
    "print(update_upsert_res.raw_result)\n",
    "print(update_upsert_res.upserted_id)"
   ]
  },
  {
   "cell_type": "code",
   "execution_count": 177,
   "metadata": {},
   "outputs": [
    {
     "data": {
      "text/plain": [
       "<pymongo.results.UpdateResult at 0x12319a680>"
      ]
     },
     "execution_count": 177,
     "metadata": {},
     "output_type": "execute_result"
    }
   ],
   "source": [
    "products_db.update_many({}, {\"$currentDate\": {\"date\": True}})"
   ]
  },
  {
   "cell_type": "code",
   "execution_count": 178,
   "metadata": {},
   "outputs": [
    {
     "data": {
      "text/plain": [
       "<pymongo.results.UpdateResult at 0x1258d9000>"
      ]
     },
     "execution_count": 178,
     "metadata": {},
     "output_type": "execute_result"
    }
   ],
   "source": [
    "#rename \n",
    "products_db.update_many({}, {\"$rename\": {\"date\": \"dateCreated\"}})"
   ]
  },
  {
   "cell_type": "code",
   "execution_count": 179,
   "metadata": {},
   "outputs": [
    {
     "data": {
      "text/plain": [
       "<pymongo.results.UpdateResult at 0x1258bea40>"
      ]
     },
     "execution_count": 179,
     "metadata": {},
     "output_type": "execute_result"
    }
   ],
   "source": [
    "# price * 1.04\n",
    "products_db.update_many({}, {\"$mul\": {\"price\": 1.04}})"
   ]
  },
  {
   "cell_type": "code",
   "execution_count": 180,
   "metadata": {},
   "outputs": [
    {
     "data": {
      "text/plain": [
       "<pymongo.results.UpdateResult at 0x123972140>"
      ]
     },
     "execution_count": 180,
     "metadata": {},
     "output_type": "execute_result"
    }
   ],
   "source": [
    "# remove date\n",
    "products_db.update_many({}, {\"$unset\": {\"dateCreated\": True}})"
   ]
  },
  {
   "cell_type": "markdown",
   "metadata": {},
   "source": [
    "Delete Functionality"
   ]
  },
  {
   "cell_type": "code",
   "execution_count": 181,
   "metadata": {},
   "outputs": [
    {
     "name": "stderr",
     "output_type": "stream",
     "text": [
      "/var/folders/1l/xv3wqjt14cgf1mmyz0bm3bnr0000gn/T/ipykernel_12209/3772704908.py:1: DeprecationWarning: remove is deprecated. Use delete_one or delete_many instead.\n",
      "  removes_product = products_db.remove({\"name\":\"Pen\"}, multi=True)\n"
     ]
    }
   ],
   "source": [
    "removes_product = products_db.remove({\"name\":\"Pen\"}, multi=True)"
   ]
  },
  {
   "cell_type": "code",
   "execution_count": 182,
   "metadata": {},
   "outputs": [],
   "source": [
    "delete_one_pro = products_db.delete_one({\"name\":\"Pen2\"})"
   ]
  },
  {
   "cell_type": "code",
   "execution_count": 183,
   "metadata": {},
   "outputs": [
    {
     "name": "stdout",
     "output_type": "stream",
     "text": [
      "True\n",
      "1\n",
      "{'n': 1, 'ok': 1.0}\n"
     ]
    }
   ],
   "source": [
    "print(delete_one_pro.acknowledged)\n",
    "print(delete_one_pro.deleted_count)\n",
    "print(delete_one_pro.raw_result)"
   ]
  },
  {
   "cell_type": "code",
   "execution_count": 185,
   "metadata": {},
   "outputs": [],
   "source": [
    "delete_many_pro = products_db.delete_many({\"name\":\"Pen2\"})"
   ]
  },
  {
   "cell_type": "markdown",
   "metadata": {},
   "source": [
    "Timestamp and datetime objects"
   ]
  },
  {
   "cell_type": "code",
   "execution_count": 187,
   "metadata": {},
   "outputs": [
    {
     "data": {
      "text/plain": [
       "1720373183.436037"
      ]
     },
     "execution_count": 187,
     "metadata": {},
     "output_type": "execute_result"
    }
   ],
   "source": [
    "time.time()"
   ]
  },
  {
   "cell_type": "code",
   "execution_count": 188,
   "metadata": {},
   "outputs": [
    {
     "data": {
      "text/plain": [
       "float"
      ]
     },
     "execution_count": 188,
     "metadata": {},
     "output_type": "execute_result"
    }
   ],
   "source": [
    "type(time.time())"
   ]
  },
  {
   "cell_type": "code",
   "execution_count": 189,
   "metadata": {},
   "outputs": [
    {
     "data": {
      "text/plain": [
       "datetime.datetime(2024, 7, 7, 20, 26, 44, 316926)"
      ]
     },
     "execution_count": 189,
     "metadata": {},
     "output_type": "execute_result"
    }
   ],
   "source": [
    "datetime.now()"
   ]
  },
  {
   "cell_type": "code",
   "execution_count": 191,
   "metadata": {},
   "outputs": [
    {
     "data": {
      "text/plain": [
       "datetime.datetime(2024, 7, 28, 20, 27, 14, 528555)"
      ]
     },
     "execution_count": 191,
     "metadata": {},
     "output_type": "execute_result"
    }
   ],
   "source": [
    "datetime.now() + timedelta(days=21)"
   ]
  },
  {
   "cell_type": "code",
   "execution_count": 192,
   "metadata": {},
   "outputs": [
    {
     "name": "stderr",
     "output_type": "stream",
     "text": [
      "/var/folders/1l/xv3wqjt14cgf1mmyz0bm3bnr0000gn/T/ipykernel_12209/3983769260.py:1: DeprecationWarning: datetime.datetime.utcnow() is deprecated and scheduled for removal in a future version. Use timezone-aware objects to represent datetimes in UTC: datetime.datetime.now(datetime.UTC).\n",
      "  datetime.utcnow()\n"
     ]
    },
    {
     "data": {
      "text/plain": [
       "datetime.datetime(2024, 7, 7, 17, 28, 8, 609832)"
      ]
     },
     "execution_count": 192,
     "metadata": {},
     "output_type": "execute_result"
    }
   ],
   "source": [
    "datetime.utcnow()"
   ]
  },
  {
   "cell_type": "code",
   "execution_count": 193,
   "metadata": {},
   "outputs": [
    {
     "data": {
      "text/plain": [
       "-7200"
      ]
     },
     "execution_count": 193,
     "metadata": {},
     "output_type": "execute_result"
    }
   ],
   "source": [
    "time.timezone"
   ]
  },
  {
   "cell_type": "code",
   "execution_count": 194,
   "metadata": {},
   "outputs": [
    {
     "data": {
      "text/plain": [
       "datetime.datetime(2024, 7, 7, 20, 28, 40, 974987)"
      ]
     },
     "execution_count": 194,
     "metadata": {},
     "output_type": "execute_result"
    }
   ],
   "source": [
    "datetime.fromtimestamp(time.time())"
   ]
  },
  {
   "cell_type": "code",
   "execution_count": 195,
   "metadata": {},
   "outputs": [
    {
     "data": {
      "text/plain": [
       "datetime.datetime(2024, 7, 7, 18, 29, 1, 730352)"
      ]
     },
     "execution_count": 195,
     "metadata": {},
     "output_type": "execute_result"
    }
   ],
   "source": [
    "datetime.fromtimestamp(time.time() + time.timezone)"
   ]
  },
  {
   "cell_type": "markdown",
   "metadata": {},
   "source": [
    "Inserting datetime and timestamp entries"
   ]
  },
  {
   "cell_type": "code",
   "execution_count": 207,
   "metadata": {},
   "outputs": [
    {
     "name": "stdout",
     "output_type": "stream",
     "text": [
      "Inserted document ID: 668ad43b73c8b630e2131b75\n"
     ]
    },
    {
     "name": "stderr",
     "output_type": "stream",
     "text": [
      "/var/folders/1l/xv3wqjt14cgf1mmyz0bm3bnr0000gn/T/ipykernel_12209/829422733.py:1: DeprecationWarning: datetime.datetime.utcnow() is deprecated and scheduled for removal in a future version. Use timezone-aware objects to represent datetimes in UTC: datetime.datetime.now(datetime.UTC).\n",
      "  current_datetime = datetime.utcnow()  # Get the current UTC datetime\n"
     ]
    }
   ],
   "source": [
    "current_datetime = datetime.utcnow()  # Get the current UTC datetime\n",
    "join_timestamp = time.time()  # Get the current timestamp\n",
    "timezone_offset = -time.timezone \n",
    "document = {\n",
    "    \"name\": \"Ethan\",\n",
    "    \"join_date_utc\": current_datetime,\n",
    "    \"join_timestamp\": join_timestamp,\n",
    "    \"subscription_end_date_utc\": current_datetime + timedelta(days=31)\n",
    "}\n",
    "result = products_db.insert_one(document)\n",
    "print(f\"Inserted document ID: {result.inserted_id}\")"
   ]
  },
  {
   "cell_type": "code",
   "execution_count": 202,
   "metadata": {},
   "outputs": [
    {
     "name": "stdout",
     "output_type": "stream",
     "text": [
      "{'_id': ObjectId('668ad2d473c8b630e2131b74'), 'name': 'Ethan', 'join_date_utc': datetime.datetime(2024, 7, 7, 17, 39, 32, 954000), 'join_timestamp': 1720373972.954709, 'subscription_end_date_utc': datetime.datetime(2024, 8, 7, 17, 39, 32, 954000)}\n"
     ]
    }
   ],
   "source": [
    "result=products_db.find_one({\"join_date_utc\": {\"$lt\": datetime(2025, 1, 1)}})\n",
    "print(result)"
   ]
  },
  {
   "cell_type": "code",
   "execution_count": 210,
   "metadata": {},
   "outputs": [
    {
     "ename": "TypeError",
     "evalue": "'InsertOneResult' object is not iterable",
     "output_type": "error",
     "traceback": [
      "\u001b[0;31m---------------------------------------------------------------------------\u001b[0m",
      "\u001b[0;31mTypeError\u001b[0m                                 Traceback (most recent call last)",
      "\u001b[1;32m/Users/dandev947366/Desktop/Projects-github/mongodb-python/main.ipynb Cell 112\u001b[0m line \u001b[0;36m1\n\u001b[0;32m----> <a href='vscode-notebook-cell:/Users/dandev947366/Desktop/Projects-github/mongodb-python/main.ipynb#Y245sZmlsZQ%3D%3D?line=0'>1</a>\u001b[0m \u001b[39mfor\u001b[39;49;00m document \u001b[39min\u001b[39;49;00m result:\n\u001b[1;32m      <a href='vscode-notebook-cell:/Users/dandev947366/Desktop/Projects-github/mongodb-python/main.ipynb#Y245sZmlsZQ%3D%3D?line=1'>2</a>\u001b[0m     \u001b[39mprint\u001b[39;49m(document)\n\u001b[1;32m      <a href='vscode-notebook-cell:/Users/dandev947366/Desktop/Projects-github/mongodb-python/main.ipynb#Y245sZmlsZQ%3D%3D?line=2'>3</a>\u001b[0m     \u001b[39mprint\u001b[39;49m(\u001b[39m\"\u001b[39;49m\u001b[39m\\n\u001b[39;49;00m\u001b[39m\"\u001b[39;49m)\n",
      "\u001b[0;31mTypeError\u001b[0m: 'InsertOneResult' object is not iterable"
     ]
    }
   ],
   "source": [
    "for document in result:\n",
    "    print(document)\n",
    "    print(\"\\n\")"
   ]
  },
  {
   "cell_type": "markdown",
   "metadata": {},
   "source": [
    "BSON Timestamp"
   ]
  },
  {
   "cell_type": "code",
   "execution_count": 205,
   "metadata": {},
   "outputs": [
    {
     "data": {
      "text/plain": [
       "Timestamp(1720374307, 1)"
      ]
     },
     "execution_count": 205,
     "metadata": {},
     "output_type": "execute_result"
    }
   ],
   "source": [
    "bson.Timestamp(int(time.time()), 1)"
   ]
  },
  {
   "cell_type": "code",
   "execution_count": 209,
   "metadata": {},
   "outputs": [
    {
     "data": {
      "text/plain": [
       "<pymongo.results.InsertOneResult at 0x123eda480>"
      ]
     },
     "execution_count": 209,
     "metadata": {},
     "output_type": "execute_result"
    }
   ],
   "source": [
    "products_db.insert_one({\n",
    "    \"name\": \"Frank\",\n",
    "    \"join_date_utc\": current_datetime,\n",
    "    \"join_timestamp\": join_timestamp,\n",
    "    \"subscription_end_date_utc\": current_datetime + timedelta(days=31)\n",
    "})"
   ]
  },
  {
   "cell_type": "code",
   "execution_count": 211,
   "metadata": {},
   "outputs": [
    {
     "data": {
      "text/plain": [
       "{'_id': ObjectId('668ad45573c8b630e2131b77'),\n",
       " 'name': 'Frank',\n",
       " 'join_date_utc': datetime.datetime(2024, 7, 7, 17, 45, 31, 114000),\n",
       " 'join_timestamp': 1720374331.114996,\n",
       " 'subscription_end_date_utc': datetime.datetime(2024, 8, 7, 17, 45, 31, 114000)}"
      ]
     },
     "execution_count": 211,
     "metadata": {},
     "output_type": "execute_result"
    }
   ],
   "source": [
    "products_db.find_one({\"name\":\"Frank\"})"
   ]
  },
  {
   "cell_type": "code",
   "execution_count": 213,
   "metadata": {},
   "outputs": [
    {
     "name": "stdout",
     "output_type": "stream",
     "text": [
      "20:45:31.114996\n"
     ]
    }
   ],
   "source": [
    "document1 = products_db.find_one({\"name\": \"Frank\"})\n",
    "if document and \"join_timestamp\" in document:\n",
    "    join_timestamp = document[\"join_timestamp\"]\n",
    "    \n",
    "    # Convert the Unix timestamp to a datetime object\n",
    "    join_datetime = datetime.fromtimestamp(join_timestamp)\n",
    "    \n",
    "    # Extract and print the time part of the datetime object\n",
    "    print(join_datetime.time())\n",
    "else:\n",
    "    print(\"Document not found or 'join_timestamp' not present.\")"
   ]
  },
  {
   "cell_type": "markdown",
   "metadata": {},
   "source": [
    "Converting UTC to local timezone"
   ]
  },
  {
   "cell_type": "code",
   "execution_count": 217,
   "metadata": {},
   "outputs": [
    {
     "name": "stdout",
     "output_type": "stream",
     "text": [
      "UTC Time: 2024-07-07 17:39:32.954000+00:00\n",
      "Local Time: 2024-07-07 13:39:32.954000-04:00\n"
     ]
    }
   ],
   "source": [
    "find_one_res = products_db.find_one({})\n",
    "if products_db.count_documents({\"name\": \"Ethan\"}) == 0:\n",
    "    # Insert a sample document with a join_date_utc field\n",
    "    current_datetime_utc = datetime.utcnow()\n",
    "    products_db.insert_one({\n",
    "        \"name\": \"Ethan\",\n",
    "        \"join_date_utc\": current_datetime_utc,\n",
    "        \"join_timestamp\": time.time(),\n",
    "        \"subscription_end_date_utc\": current_datetime_utc + timedelta(days=31)\n",
    "    })\n",
    "\n",
    "# Find one document from the collection\n",
    "find_one_res = products_db.find_one({\"name\": \"Ethan\"})\n",
    "\n",
    "# Check if the document contains the \"join_date_utc\" field and convert it to local timezone\n",
    "if find_one_res and \"join_date_utc\" in find_one_res:\n",
    "    join_date_utc = find_one_res[\"join_date_utc\"]\n",
    "\n",
    "    # Ensure the join_date_utc is timezone-aware\n",
    "    if join_date_utc.tzinfo is None:\n",
    "        join_date_utc = pytz.utc.localize(join_date_utc)\n",
    "\n",
    "    # Convert the UTC datetime to local timezone\n",
    "    local_timezone = pytz.timezone(\"America/New_York\")  # Change this to your local timezone\n",
    "    local_join_date = join_date_utc.astimezone(local_timezone)\n",
    "    \n",
    "    print(f\"UTC Time: {join_date_utc}\")\n",
    "    print(f\"Local Time: {local_join_date}\")\n",
    "else:\n",
    "    print(\"Document not found or 'join_date_utc' field not present.\")"
   ]
  },
  {
   "cell_type": "code",
   "execution_count": 218,
   "metadata": {},
   "outputs": [
    {
     "data": {
      "text/plain": [
       "['Africa/Abidjan',\n",
       " 'Africa/Accra',\n",
       " 'Africa/Addis_Ababa',\n",
       " 'Africa/Algiers',\n",
       " 'Africa/Asmara',\n",
       " 'Africa/Asmera',\n",
       " 'Africa/Bamako',\n",
       " 'Africa/Bangui',\n",
       " 'Africa/Banjul',\n",
       " 'Africa/Bissau',\n",
       " 'Africa/Blantyre',\n",
       " 'Africa/Brazzaville',\n",
       " 'Africa/Bujumbura',\n",
       " 'Africa/Cairo',\n",
       " 'Africa/Casablanca',\n",
       " 'Africa/Ceuta',\n",
       " 'Africa/Conakry',\n",
       " 'Africa/Dakar',\n",
       " 'Africa/Dar_es_Salaam',\n",
       " 'Africa/Djibouti',\n",
       " 'Africa/Douala',\n",
       " 'Africa/El_Aaiun',\n",
       " 'Africa/Freetown',\n",
       " 'Africa/Gaborone',\n",
       " 'Africa/Harare',\n",
       " 'Africa/Johannesburg',\n",
       " 'Africa/Juba',\n",
       " 'Africa/Kampala',\n",
       " 'Africa/Khartoum',\n",
       " 'Africa/Kigali',\n",
       " 'Africa/Kinshasa',\n",
       " 'Africa/Lagos',\n",
       " 'Africa/Libreville',\n",
       " 'Africa/Lome',\n",
       " 'Africa/Luanda',\n",
       " 'Africa/Lubumbashi',\n",
       " 'Africa/Lusaka',\n",
       " 'Africa/Malabo',\n",
       " 'Africa/Maputo',\n",
       " 'Africa/Maseru',\n",
       " 'Africa/Mbabane',\n",
       " 'Africa/Mogadishu',\n",
       " 'Africa/Monrovia',\n",
       " 'Africa/Nairobi',\n",
       " 'Africa/Ndjamena',\n",
       " 'Africa/Niamey',\n",
       " 'Africa/Nouakchott',\n",
       " 'Africa/Ouagadougou',\n",
       " 'Africa/Porto-Novo',\n",
       " 'Africa/Sao_Tome',\n",
       " 'Africa/Timbuktu',\n",
       " 'Africa/Tripoli',\n",
       " 'Africa/Tunis',\n",
       " 'Africa/Windhoek',\n",
       " 'America/Adak',\n",
       " 'America/Anchorage',\n",
       " 'America/Anguilla',\n",
       " 'America/Antigua',\n",
       " 'America/Araguaina',\n",
       " 'America/Argentina/Buenos_Aires',\n",
       " 'America/Argentina/Catamarca',\n",
       " 'America/Argentina/ComodRivadavia',\n",
       " 'America/Argentina/Cordoba',\n",
       " 'America/Argentina/Jujuy',\n",
       " 'America/Argentina/La_Rioja',\n",
       " 'America/Argentina/Mendoza',\n",
       " 'America/Argentina/Rio_Gallegos',\n",
       " 'America/Argentina/Salta',\n",
       " 'America/Argentina/San_Juan',\n",
       " 'America/Argentina/San_Luis',\n",
       " 'America/Argentina/Tucuman',\n",
       " 'America/Argentina/Ushuaia',\n",
       " 'America/Aruba',\n",
       " 'America/Asuncion',\n",
       " 'America/Atikokan',\n",
       " 'America/Atka',\n",
       " 'America/Bahia',\n",
       " 'America/Bahia_Banderas',\n",
       " 'America/Barbados',\n",
       " 'America/Belem',\n",
       " 'America/Belize',\n",
       " 'America/Blanc-Sablon',\n",
       " 'America/Boa_Vista',\n",
       " 'America/Bogota',\n",
       " 'America/Boise',\n",
       " 'America/Buenos_Aires',\n",
       " 'America/Cambridge_Bay',\n",
       " 'America/Campo_Grande',\n",
       " 'America/Cancun',\n",
       " 'America/Caracas',\n",
       " 'America/Catamarca',\n",
       " 'America/Cayenne',\n",
       " 'America/Cayman',\n",
       " 'America/Chicago',\n",
       " 'America/Chihuahua',\n",
       " 'America/Ciudad_Juarez',\n",
       " 'America/Coral_Harbour',\n",
       " 'America/Cordoba',\n",
       " 'America/Costa_Rica',\n",
       " 'America/Creston',\n",
       " 'America/Cuiaba',\n",
       " 'America/Curacao',\n",
       " 'America/Danmarkshavn',\n",
       " 'America/Dawson',\n",
       " 'America/Dawson_Creek',\n",
       " 'America/Denver',\n",
       " 'America/Detroit',\n",
       " 'America/Dominica',\n",
       " 'America/Edmonton',\n",
       " 'America/Eirunepe',\n",
       " 'America/El_Salvador',\n",
       " 'America/Ensenada',\n",
       " 'America/Fort_Nelson',\n",
       " 'America/Fort_Wayne',\n",
       " 'America/Fortaleza',\n",
       " 'America/Glace_Bay',\n",
       " 'America/Godthab',\n",
       " 'America/Goose_Bay',\n",
       " 'America/Grand_Turk',\n",
       " 'America/Grenada',\n",
       " 'America/Guadeloupe',\n",
       " 'America/Guatemala',\n",
       " 'America/Guayaquil',\n",
       " 'America/Guyana',\n",
       " 'America/Halifax',\n",
       " 'America/Havana',\n",
       " 'America/Hermosillo',\n",
       " 'America/Indiana/Indianapolis',\n",
       " 'America/Indiana/Knox',\n",
       " 'America/Indiana/Marengo',\n",
       " 'America/Indiana/Petersburg',\n",
       " 'America/Indiana/Tell_City',\n",
       " 'America/Indiana/Vevay',\n",
       " 'America/Indiana/Vincennes',\n",
       " 'America/Indiana/Winamac',\n",
       " 'America/Indianapolis',\n",
       " 'America/Inuvik',\n",
       " 'America/Iqaluit',\n",
       " 'America/Jamaica',\n",
       " 'America/Jujuy',\n",
       " 'America/Juneau',\n",
       " 'America/Kentucky/Louisville',\n",
       " 'America/Kentucky/Monticello',\n",
       " 'America/Knox_IN',\n",
       " 'America/Kralendijk',\n",
       " 'America/La_Paz',\n",
       " 'America/Lima',\n",
       " 'America/Los_Angeles',\n",
       " 'America/Louisville',\n",
       " 'America/Lower_Princes',\n",
       " 'America/Maceio',\n",
       " 'America/Managua',\n",
       " 'America/Manaus',\n",
       " 'America/Marigot',\n",
       " 'America/Martinique',\n",
       " 'America/Matamoros',\n",
       " 'America/Mazatlan',\n",
       " 'America/Mendoza',\n",
       " 'America/Menominee',\n",
       " 'America/Merida',\n",
       " 'America/Metlakatla',\n",
       " 'America/Mexico_City',\n",
       " 'America/Miquelon',\n",
       " 'America/Moncton',\n",
       " 'America/Monterrey',\n",
       " 'America/Montevideo',\n",
       " 'America/Montreal',\n",
       " 'America/Montserrat',\n",
       " 'America/Nassau',\n",
       " 'America/New_York',\n",
       " 'America/Nipigon',\n",
       " 'America/Nome',\n",
       " 'America/Noronha',\n",
       " 'America/North_Dakota/Beulah',\n",
       " 'America/North_Dakota/Center',\n",
       " 'America/North_Dakota/New_Salem',\n",
       " 'America/Nuuk',\n",
       " 'America/Ojinaga',\n",
       " 'America/Panama',\n",
       " 'America/Pangnirtung',\n",
       " 'America/Paramaribo',\n",
       " 'America/Phoenix',\n",
       " 'America/Port-au-Prince',\n",
       " 'America/Port_of_Spain',\n",
       " 'America/Porto_Acre',\n",
       " 'America/Porto_Velho',\n",
       " 'America/Puerto_Rico',\n",
       " 'America/Punta_Arenas',\n",
       " 'America/Rainy_River',\n",
       " 'America/Rankin_Inlet',\n",
       " 'America/Recife',\n",
       " 'America/Regina',\n",
       " 'America/Resolute',\n",
       " 'America/Rio_Branco',\n",
       " 'America/Rosario',\n",
       " 'America/Santa_Isabel',\n",
       " 'America/Santarem',\n",
       " 'America/Santiago',\n",
       " 'America/Santo_Domingo',\n",
       " 'America/Sao_Paulo',\n",
       " 'America/Scoresbysund',\n",
       " 'America/Shiprock',\n",
       " 'America/Sitka',\n",
       " 'America/St_Barthelemy',\n",
       " 'America/St_Johns',\n",
       " 'America/St_Kitts',\n",
       " 'America/St_Lucia',\n",
       " 'America/St_Thomas',\n",
       " 'America/St_Vincent',\n",
       " 'America/Swift_Current',\n",
       " 'America/Tegucigalpa',\n",
       " 'America/Thule',\n",
       " 'America/Thunder_Bay',\n",
       " 'America/Tijuana',\n",
       " 'America/Toronto',\n",
       " 'America/Tortola',\n",
       " 'America/Vancouver',\n",
       " 'America/Virgin',\n",
       " 'America/Whitehorse',\n",
       " 'America/Winnipeg',\n",
       " 'America/Yakutat',\n",
       " 'America/Yellowknife',\n",
       " 'Antarctica/Casey',\n",
       " 'Antarctica/Davis',\n",
       " 'Antarctica/DumontDUrville',\n",
       " 'Antarctica/Macquarie',\n",
       " 'Antarctica/Mawson',\n",
       " 'Antarctica/McMurdo',\n",
       " 'Antarctica/Palmer',\n",
       " 'Antarctica/Rothera',\n",
       " 'Antarctica/South_Pole',\n",
       " 'Antarctica/Syowa',\n",
       " 'Antarctica/Troll',\n",
       " 'Antarctica/Vostok',\n",
       " 'Arctic/Longyearbyen',\n",
       " 'Asia/Aden',\n",
       " 'Asia/Almaty',\n",
       " 'Asia/Amman',\n",
       " 'Asia/Anadyr',\n",
       " 'Asia/Aqtau',\n",
       " 'Asia/Aqtobe',\n",
       " 'Asia/Ashgabat',\n",
       " 'Asia/Ashkhabad',\n",
       " 'Asia/Atyrau',\n",
       " 'Asia/Baghdad',\n",
       " 'Asia/Bahrain',\n",
       " 'Asia/Baku',\n",
       " 'Asia/Bangkok',\n",
       " 'Asia/Barnaul',\n",
       " 'Asia/Beirut',\n",
       " 'Asia/Bishkek',\n",
       " 'Asia/Brunei',\n",
       " 'Asia/Calcutta',\n",
       " 'Asia/Chita',\n",
       " 'Asia/Choibalsan',\n",
       " 'Asia/Chongqing',\n",
       " 'Asia/Chungking',\n",
       " 'Asia/Colombo',\n",
       " 'Asia/Dacca',\n",
       " 'Asia/Damascus',\n",
       " 'Asia/Dhaka',\n",
       " 'Asia/Dili',\n",
       " 'Asia/Dubai',\n",
       " 'Asia/Dushanbe',\n",
       " 'Asia/Famagusta',\n",
       " 'Asia/Gaza',\n",
       " 'Asia/Harbin',\n",
       " 'Asia/Hebron',\n",
       " 'Asia/Ho_Chi_Minh',\n",
       " 'Asia/Hong_Kong',\n",
       " 'Asia/Hovd',\n",
       " 'Asia/Irkutsk',\n",
       " 'Asia/Istanbul',\n",
       " 'Asia/Jakarta',\n",
       " 'Asia/Jayapura',\n",
       " 'Asia/Jerusalem',\n",
       " 'Asia/Kabul',\n",
       " 'Asia/Kamchatka',\n",
       " 'Asia/Karachi',\n",
       " 'Asia/Kashgar',\n",
       " 'Asia/Kathmandu',\n",
       " 'Asia/Katmandu',\n",
       " 'Asia/Khandyga',\n",
       " 'Asia/Kolkata',\n",
       " 'Asia/Krasnoyarsk',\n",
       " 'Asia/Kuala_Lumpur',\n",
       " 'Asia/Kuching',\n",
       " 'Asia/Kuwait',\n",
       " 'Asia/Macao',\n",
       " 'Asia/Macau',\n",
       " 'Asia/Magadan',\n",
       " 'Asia/Makassar',\n",
       " 'Asia/Manila',\n",
       " 'Asia/Muscat',\n",
       " 'Asia/Nicosia',\n",
       " 'Asia/Novokuznetsk',\n",
       " 'Asia/Novosibirsk',\n",
       " 'Asia/Omsk',\n",
       " 'Asia/Oral',\n",
       " 'Asia/Phnom_Penh',\n",
       " 'Asia/Pontianak',\n",
       " 'Asia/Pyongyang',\n",
       " 'Asia/Qatar',\n",
       " 'Asia/Qostanay',\n",
       " 'Asia/Qyzylorda',\n",
       " 'Asia/Rangoon',\n",
       " 'Asia/Riyadh',\n",
       " 'Asia/Saigon',\n",
       " 'Asia/Sakhalin',\n",
       " 'Asia/Samarkand',\n",
       " 'Asia/Seoul',\n",
       " 'Asia/Shanghai',\n",
       " 'Asia/Singapore',\n",
       " 'Asia/Srednekolymsk',\n",
       " 'Asia/Taipei',\n",
       " 'Asia/Tashkent',\n",
       " 'Asia/Tbilisi',\n",
       " 'Asia/Tehran',\n",
       " 'Asia/Tel_Aviv',\n",
       " 'Asia/Thimbu',\n",
       " 'Asia/Thimphu',\n",
       " 'Asia/Tokyo',\n",
       " 'Asia/Tomsk',\n",
       " 'Asia/Ujung_Pandang',\n",
       " 'Asia/Ulaanbaatar',\n",
       " 'Asia/Ulan_Bator',\n",
       " 'Asia/Urumqi',\n",
       " 'Asia/Ust-Nera',\n",
       " 'Asia/Vientiane',\n",
       " 'Asia/Vladivostok',\n",
       " 'Asia/Yakutsk',\n",
       " 'Asia/Yangon',\n",
       " 'Asia/Yekaterinburg',\n",
       " 'Asia/Yerevan',\n",
       " 'Atlantic/Azores',\n",
       " 'Atlantic/Bermuda',\n",
       " 'Atlantic/Canary',\n",
       " 'Atlantic/Cape_Verde',\n",
       " 'Atlantic/Faeroe',\n",
       " 'Atlantic/Faroe',\n",
       " 'Atlantic/Jan_Mayen',\n",
       " 'Atlantic/Madeira',\n",
       " 'Atlantic/Reykjavik',\n",
       " 'Atlantic/South_Georgia',\n",
       " 'Atlantic/St_Helena',\n",
       " 'Atlantic/Stanley',\n",
       " 'Australia/ACT',\n",
       " 'Australia/Adelaide',\n",
       " 'Australia/Brisbane',\n",
       " 'Australia/Broken_Hill',\n",
       " 'Australia/Canberra',\n",
       " 'Australia/Currie',\n",
       " 'Australia/Darwin',\n",
       " 'Australia/Eucla',\n",
       " 'Australia/Hobart',\n",
       " 'Australia/LHI',\n",
       " 'Australia/Lindeman',\n",
       " 'Australia/Lord_Howe',\n",
       " 'Australia/Melbourne',\n",
       " 'Australia/NSW',\n",
       " 'Australia/North',\n",
       " 'Australia/Perth',\n",
       " 'Australia/Queensland',\n",
       " 'Australia/South',\n",
       " 'Australia/Sydney',\n",
       " 'Australia/Tasmania',\n",
       " 'Australia/Victoria',\n",
       " 'Australia/West',\n",
       " 'Australia/Yancowinna',\n",
       " 'Brazil/Acre',\n",
       " 'Brazil/DeNoronha',\n",
       " 'Brazil/East',\n",
       " 'Brazil/West',\n",
       " 'CET',\n",
       " 'CST6CDT',\n",
       " 'Canada/Atlantic',\n",
       " 'Canada/Central',\n",
       " 'Canada/Eastern',\n",
       " 'Canada/Mountain',\n",
       " 'Canada/Newfoundland',\n",
       " 'Canada/Pacific',\n",
       " 'Canada/Saskatchewan',\n",
       " 'Canada/Yukon',\n",
       " 'Chile/Continental',\n",
       " 'Chile/EasterIsland',\n",
       " 'Cuba',\n",
       " 'EET',\n",
       " 'EST',\n",
       " 'EST5EDT',\n",
       " 'Egypt',\n",
       " 'Eire',\n",
       " 'Etc/GMT',\n",
       " 'Etc/GMT+0',\n",
       " 'Etc/GMT+1',\n",
       " 'Etc/GMT+10',\n",
       " 'Etc/GMT+11',\n",
       " 'Etc/GMT+12',\n",
       " 'Etc/GMT+2',\n",
       " 'Etc/GMT+3',\n",
       " 'Etc/GMT+4',\n",
       " 'Etc/GMT+5',\n",
       " 'Etc/GMT+6',\n",
       " 'Etc/GMT+7',\n",
       " 'Etc/GMT+8',\n",
       " 'Etc/GMT+9',\n",
       " 'Etc/GMT-0',\n",
       " 'Etc/GMT-1',\n",
       " 'Etc/GMT-10',\n",
       " 'Etc/GMT-11',\n",
       " 'Etc/GMT-12',\n",
       " 'Etc/GMT-13',\n",
       " 'Etc/GMT-14',\n",
       " 'Etc/GMT-2',\n",
       " 'Etc/GMT-3',\n",
       " 'Etc/GMT-4',\n",
       " 'Etc/GMT-5',\n",
       " 'Etc/GMT-6',\n",
       " 'Etc/GMT-7',\n",
       " 'Etc/GMT-8',\n",
       " 'Etc/GMT-9',\n",
       " 'Etc/GMT0',\n",
       " 'Etc/Greenwich',\n",
       " 'Etc/UCT',\n",
       " 'Etc/UTC',\n",
       " 'Etc/Universal',\n",
       " 'Etc/Zulu',\n",
       " 'Europe/Amsterdam',\n",
       " 'Europe/Andorra',\n",
       " 'Europe/Astrakhan',\n",
       " 'Europe/Athens',\n",
       " 'Europe/Belfast',\n",
       " 'Europe/Belgrade',\n",
       " 'Europe/Berlin',\n",
       " 'Europe/Bratislava',\n",
       " 'Europe/Brussels',\n",
       " 'Europe/Bucharest',\n",
       " 'Europe/Budapest',\n",
       " 'Europe/Busingen',\n",
       " 'Europe/Chisinau',\n",
       " 'Europe/Copenhagen',\n",
       " 'Europe/Dublin',\n",
       " 'Europe/Gibraltar',\n",
       " 'Europe/Guernsey',\n",
       " 'Europe/Helsinki',\n",
       " 'Europe/Isle_of_Man',\n",
       " 'Europe/Istanbul',\n",
       " 'Europe/Jersey',\n",
       " 'Europe/Kaliningrad',\n",
       " 'Europe/Kiev',\n",
       " 'Europe/Kirov',\n",
       " 'Europe/Kyiv',\n",
       " 'Europe/Lisbon',\n",
       " 'Europe/Ljubljana',\n",
       " 'Europe/London',\n",
       " 'Europe/Luxembourg',\n",
       " 'Europe/Madrid',\n",
       " 'Europe/Malta',\n",
       " 'Europe/Mariehamn',\n",
       " 'Europe/Minsk',\n",
       " 'Europe/Monaco',\n",
       " 'Europe/Moscow',\n",
       " 'Europe/Nicosia',\n",
       " 'Europe/Oslo',\n",
       " 'Europe/Paris',\n",
       " 'Europe/Podgorica',\n",
       " 'Europe/Prague',\n",
       " 'Europe/Riga',\n",
       " 'Europe/Rome',\n",
       " 'Europe/Samara',\n",
       " 'Europe/San_Marino',\n",
       " 'Europe/Sarajevo',\n",
       " 'Europe/Saratov',\n",
       " 'Europe/Simferopol',\n",
       " 'Europe/Skopje',\n",
       " 'Europe/Sofia',\n",
       " 'Europe/Stockholm',\n",
       " 'Europe/Tallinn',\n",
       " 'Europe/Tirane',\n",
       " 'Europe/Tiraspol',\n",
       " 'Europe/Ulyanovsk',\n",
       " 'Europe/Uzhgorod',\n",
       " 'Europe/Vaduz',\n",
       " 'Europe/Vatican',\n",
       " 'Europe/Vienna',\n",
       " 'Europe/Vilnius',\n",
       " 'Europe/Volgograd',\n",
       " 'Europe/Warsaw',\n",
       " 'Europe/Zagreb',\n",
       " 'Europe/Zaporozhye',\n",
       " 'Europe/Zurich',\n",
       " 'GB',\n",
       " 'GB-Eire',\n",
       " 'GMT',\n",
       " 'GMT+0',\n",
       " 'GMT-0',\n",
       " 'GMT0',\n",
       " 'Greenwich',\n",
       " 'HST',\n",
       " 'Hongkong',\n",
       " 'Iceland',\n",
       " 'Indian/Antananarivo',\n",
       " 'Indian/Chagos',\n",
       " 'Indian/Christmas',\n",
       " 'Indian/Cocos',\n",
       " 'Indian/Comoro',\n",
       " 'Indian/Kerguelen',\n",
       " 'Indian/Mahe',\n",
       " 'Indian/Maldives',\n",
       " 'Indian/Mauritius',\n",
       " 'Indian/Mayotte',\n",
       " 'Indian/Reunion',\n",
       " 'Iran',\n",
       " 'Israel',\n",
       " 'Jamaica',\n",
       " 'Japan',\n",
       " 'Kwajalein',\n",
       " 'Libya',\n",
       " 'MET',\n",
       " 'MST',\n",
       " 'MST7MDT',\n",
       " 'Mexico/BajaNorte',\n",
       " 'Mexico/BajaSur',\n",
       " 'Mexico/General',\n",
       " 'NZ',\n",
       " 'NZ-CHAT',\n",
       " 'Navajo',\n",
       " 'PRC',\n",
       " 'PST8PDT',\n",
       " 'Pacific/Apia',\n",
       " 'Pacific/Auckland',\n",
       " 'Pacific/Bougainville',\n",
       " 'Pacific/Chatham',\n",
       " 'Pacific/Chuuk',\n",
       " 'Pacific/Easter',\n",
       " 'Pacific/Efate',\n",
       " 'Pacific/Enderbury',\n",
       " 'Pacific/Fakaofo',\n",
       " 'Pacific/Fiji',\n",
       " 'Pacific/Funafuti',\n",
       " 'Pacific/Galapagos',\n",
       " 'Pacific/Gambier',\n",
       " 'Pacific/Guadalcanal',\n",
       " 'Pacific/Guam',\n",
       " 'Pacific/Honolulu',\n",
       " 'Pacific/Johnston',\n",
       " 'Pacific/Kanton',\n",
       " 'Pacific/Kiritimati',\n",
       " 'Pacific/Kosrae',\n",
       " 'Pacific/Kwajalein',\n",
       " 'Pacific/Majuro',\n",
       " 'Pacific/Marquesas',\n",
       " 'Pacific/Midway',\n",
       " 'Pacific/Nauru',\n",
       " 'Pacific/Niue',\n",
       " 'Pacific/Norfolk',\n",
       " 'Pacific/Noumea',\n",
       " 'Pacific/Pago_Pago',\n",
       " 'Pacific/Palau',\n",
       " 'Pacific/Pitcairn',\n",
       " 'Pacific/Pohnpei',\n",
       " 'Pacific/Ponape',\n",
       " 'Pacific/Port_Moresby',\n",
       " 'Pacific/Rarotonga',\n",
       " 'Pacific/Saipan',\n",
       " 'Pacific/Samoa',\n",
       " 'Pacific/Tahiti',\n",
       " 'Pacific/Tarawa',\n",
       " 'Pacific/Tongatapu',\n",
       " 'Pacific/Truk',\n",
       " 'Pacific/Wake',\n",
       " 'Pacific/Wallis',\n",
       " 'Pacific/Yap',\n",
       " 'Poland',\n",
       " 'Portugal',\n",
       " 'ROC',\n",
       " 'ROK',\n",
       " 'Singapore',\n",
       " 'Turkey',\n",
       " 'UCT',\n",
       " 'US/Alaska',\n",
       " 'US/Aleutian',\n",
       " 'US/Arizona',\n",
       " 'US/Central',\n",
       " 'US/East-Indiana',\n",
       " 'US/Eastern',\n",
       " 'US/Hawaii',\n",
       " 'US/Indiana-Starke',\n",
       " 'US/Michigan',\n",
       " 'US/Mountain',\n",
       " 'US/Pacific',\n",
       " 'US/Samoa',\n",
       " 'UTC',\n",
       " 'Universal',\n",
       " 'W-SU',\n",
       " 'WET',\n",
       " 'Zulu']"
      ]
     },
     "execution_count": 218,
     "metadata": {},
     "output_type": "execute_result"
    }
   ],
   "source": [
    "pytz.all_timezones"
   ]
  },
  {
   "cell_type": "markdown",
   "metadata": {},
   "source": [
    "Array"
   ]
  },
  {
   "cell_type": "code",
   "execution_count": 220,
   "metadata": {},
   "outputs": [
    {
     "data": {
      "text/plain": [
       "<pymongo.results.InsertManyResult at 0x123eeb680>"
      ]
     },
     "execution_count": 220,
     "metadata": {},
     "output_type": "execute_result"
    }
   ],
   "source": [
    "products_db.insert_many([\n",
    "    {\"name\": \"Bag\", \"departments\": [\"School\"], \"versions\": [\n",
    "        {\"color\": \"Black\", \"size\": \"small\", \"qty\": 5, \"price\": 17.79},\n",
    "        {\"color\": \"Red\", \"size\": \"small\", \"qty\": 3, \"price\": 18.23},\n",
    "        {\"color\": \"Green\", \"size\": \"small\", \"qty\": 5, \"price\": 20.03},\n",
    "        {\"color\": \"Black\", \"size\": \"large\", \"qty\": 1, \"price\": 41.23},\n",
    "        {\"color\": \"Red\", \"size\": \"large\", \"qty\": 10, \"price\": 46.82},\n",
    "        {\"color\": \"Green\", \"size\": \"large\", \"qty\": 7, \"price\": 45.43},\n",
    "    ]},\n",
    "    {\"name\": \"Mug\", \"departments\": [\"Home\", \"Kitchen\"], \"versions\": [\n",
    "        {\"color\": \"White\", \"size\": \"11 oz\", \"qty\": 14, \"price\": 14.79},\n",
    "        {\"color\": \"Blue\", \"size\": \"11 oz\", \"qty\": 23, \"price\": 15.23},\n",
    "        {\"color\": \"Green\", \"size\": \"11 oz\", \"qty\": 15, \"price\": 15.07},\n",
    "        {\"color\": \"White\", \"size\": \"15 oz\", \"qty\": 11, \"price\": 24.43},\n",
    "        {\"color\": \"Blue\", \"size\": \"15 oz\", \"qty\": 7, \"price\": 25.42},\n",
    "        {\"color\": \"Green\", \"size\": \"15 oz\", \"qty\": 10, \"price\": 25.83},\n",
    "    ]},\n",
    "    {\"name\": \"Pens\", \"departments\": [\"School\", \"Office\"], \"versions\": [\n",
    "        {\"color\": \"Black\", \"type\": \"10 Pack\", \"qty\": 40, \"price\": 14.79},\n",
    "        {\"color\": \"Red\", \"type\": \"10 Pack\", \"qty\": 13, \"price\": 15.23},\n",
    "        {\"color\": \"Blue\", \"type\": \"10 Pack\", \"qty\": 12, \"price\": 15.07}\n",
    "    ]}\n",
    "])"
   ]
  },
  {
   "cell_type": "code",
   "execution_count": 255,
   "metadata": {},
   "outputs": [],
   "source": [
    "def list_docs(find_cursor):\n",
    "    for document in find_cursor:\n",
    "        print(document)"
   ]
  },
  {
   "cell_type": "code",
   "execution_count": 256,
   "metadata": {},
   "outputs": [
    {
     "name": "stdout",
     "output_type": "stream",
     "text": [
      "{'_id': ObjectId('668ad71573c8b630e2131b7b'), 'name': 'Bag', 'departments': ['School'], 'versions': [{'color': 'Black', 'size': 'small', 'qty': 5, 'price': 17.79}, {'color': 'Red', 'size': 'small', 'qty': 3, 'price': 18.23}, {'color': 'Green', 'size': 'small', 'qty': 5, 'price': 20.03}, {'color': 'Black', 'size': 'large', 'qty': 1, 'price': 41.23}, {'color': 'Red', 'size': 'large', 'qty': 10, 'price': 46.82}, {'color': 'Green', 'size': 'large', 'qty': 7, 'price': 45.43}]}\n",
      "{'_id': ObjectId('668ad71573c8b630e2131b7d'), 'name': 'Pens', 'departments': ['School', 'Office'], 'versions': [{'color': 'Black', 'type': '10 Pack', 'qty': 40, 'price': 14.79}, {'color': 'Red', 'type': '10 Pack', 'qty': 13, 'price': 15.23}, {'color': 'Blue', 'type': '10 Pack', 'qty': 12, 'price': 15.07}]}\n"
     ]
    }
   ],
   "source": [
    "# search\n",
    "find_cursor = products_db.find({\"departments\":\"School\"})\n",
    "list_docs(find_cursor)"
   ]
  },
  {
   "cell_type": "code",
   "execution_count": 257,
   "metadata": {},
   "outputs": [
    {
     "name": "stdout",
     "output_type": "stream",
     "text": [
      "{'_id': ObjectId('668ad71573c8b630e2131b7c'), 'name': 'Mug', 'departments': ['Home', 'Kitchen'], 'versions': [{'color': 'White', 'size': '11 oz', 'qty': 14, 'price': 14.79}, {'color': 'Blue', 'size': '11 oz', 'qty': 23, 'price': 15.23}, {'color': 'Green', 'size': '11 oz', 'qty': 15, 'price': 15.07}, {'color': 'White', 'size': '15 oz', 'qty': 11, 'price': 24.43}, {'color': 'Blue', 'size': '15 oz', 'qty': 7, 'price': 25.42}, {'color': 'Green', 'size': '15 oz', 'qty': 10, 'price': 25.83}]}\n"
     ]
    }
   ],
   "source": [
    "find_cursor = products_db.find({\"departments\":[\"Home\", \"Kitchen\"]})\n",
    "list_docs(find_cursor)"
   ]
  },
  {
   "cell_type": "code",
   "execution_count": 258,
   "metadata": {},
   "outputs": [
    {
     "name": "stdout",
     "output_type": "stream",
     "text": [
      "{'_id': ObjectId('668ad71573c8b630e2131b7c'), 'name': 'Mug', 'departments': ['Home', 'Kitchen'], 'versions': [{'color': 'White', 'size': '11 oz', 'qty': 14, 'price': 14.79}, {'color': 'Blue', 'size': '11 oz', 'qty': 23, 'price': 15.23}, {'color': 'Green', 'size': '11 oz', 'qty': 15, 'price': 15.07}, {'color': 'White', 'size': '15 oz', 'qty': 11, 'price': 24.43}, {'color': 'Blue', 'size': '15 oz', 'qty': 7, 'price': 25.42}, {'color': 'Green', 'size': '15 oz', 'qty': 10, 'price': 25.83}]}\n",
      "{'_id': ObjectId('668ad71573c8b630e2131b7d'), 'name': 'Pens', 'departments': ['School', 'Office'], 'versions': [{'color': 'Black', 'type': '10 Pack', 'qty': 40, 'price': 14.79}, {'color': 'Red', 'type': '10 Pack', 'qty': 13, 'price': 15.23}, {'color': 'Blue', 'type': '10 Pack', 'qty': 12, 'price': 15.07}]}\n"
     ]
    }
   ],
   "source": [
    "find_cursor = products_db.find({\"departments\":{\"$size\":2}})\n",
    "list_docs(find_cursor)"
   ]
  },
  {
   "cell_type": "code",
   "execution_count": 259,
   "metadata": {},
   "outputs": [
    {
     "name": "stdout",
     "output_type": "stream",
     "text": [
      "{'_id': ObjectId('668ad71573c8b630e2131b7d'), 'name': 'Pens', 'departments': ['School', 'Office'], 'versions': [{'color': 'Black', 'type': '10 Pack', 'qty': 40, 'price': 14.79}, {'color': 'Red', 'type': '10 Pack', 'qty': 13, 'price': 15.23}, {'color': 'Blue', 'type': '10 Pack', 'qty': 12, 'price': 15.07}]}\n"
     ]
    }
   ],
   "source": [
    "find_cursor = products_db.find({\"versions\":{\"$size\":3}})\n",
    "list_docs(find_cursor)"
   ]
  },
  {
   "cell_type": "code",
   "execution_count": 260,
   "metadata": {},
   "outputs": [],
   "source": [
    "find_cursor = products_db.find({\"versions\": {\"$exists\": True}})\n",
    "\n",
    "# Filter documents in Python based on 'versions' array length > 2\n",
    "filtered_documents = [document for document in find_cursor if len(document.get('versions', [])) > 2]\n",
    "\n",
    "# Iterate through the filtered documents and print each document\n",
    "list_docs(find_cursor)"
   ]
  },
  {
   "cell_type": "markdown",
   "metadata": {},
   "source": [
    "Arrays Of Embedded Documents"
   ]
  },
  {
   "cell_type": "code",
   "execution_count": 261,
   "metadata": {},
   "outputs": [
    {
     "name": "stdout",
     "output_type": "stream",
     "text": [
      "{'_id': ObjectId('668ad71573c8b630e2131b7b'), 'name': 'Bag', 'departments': ['School'], 'versions': [{'color': 'Black', 'size': 'small', 'qty': 5, 'price': 17.79}, {'color': 'Red', 'size': 'small', 'qty': 3, 'price': 18.23}, {'color': 'Green', 'size': 'small', 'qty': 5, 'price': 20.03}, {'color': 'Black', 'size': 'large', 'qty': 1, 'price': 41.23}, {'color': 'Red', 'size': 'large', 'qty': 10, 'price': 46.82}, {'color': 'Green', 'size': 'large', 'qty': 7, 'price': 45.43}]}\n",
      "{'_id': ObjectId('668ad71573c8b630e2131b7d'), 'name': 'Pens', 'departments': ['School', 'Office'], 'versions': [{'color': 'Black', 'type': '10 Pack', 'qty': 40, 'price': 14.79}, {'color': 'Red', 'type': '10 Pack', 'qty': 13, 'price': 15.23}, {'color': 'Blue', 'type': '10 Pack', 'qty': 12, 'price': 15.07}]}\n"
     ]
    }
   ],
   "source": [
    "find_cursor = products_db.find({\"versions.color\":\"Red\"})\n",
    "list_docs(find_cursor)"
   ]
  },
  {
   "cell_type": "code",
   "execution_count": 262,
   "metadata": {},
   "outputs": [
    {
     "name": "stdout",
     "output_type": "stream",
     "text": [
      "{'_id': ObjectId('668ad71573c8b630e2131b7b'), 'name': 'Bag', 'departments': ['School'], 'versions': [{'color': 'Black', 'size': 'small', 'qty': 5, 'price': 17.79}, {'color': 'Red', 'size': 'small', 'qty': 3, 'price': 18.23}, {'color': 'Green', 'size': 'small', 'qty': 5, 'price': 20.03}, {'color': 'Black', 'size': 'large', 'qty': 1, 'price': 41.23}, {'color': 'Red', 'size': 'large', 'qty': 10, 'price': 46.82}, {'color': 'Green', 'size': 'large', 'qty': 7, 'price': 45.43}]}\n",
      "{'_id': ObjectId('668ad71573c8b630e2131b7c'), 'name': 'Mug', 'departments': ['Home', 'Kitchen'], 'versions': [{'color': 'White', 'size': '11 oz', 'qty': 14, 'price': 14.79}, {'color': 'Blue', 'size': '11 oz', 'qty': 23, 'price': 15.23}, {'color': 'Green', 'size': '11 oz', 'qty': 15, 'price': 15.07}, {'color': 'White', 'size': '15 oz', 'qty': 11, 'price': 24.43}, {'color': 'Blue', 'size': '15 oz', 'qty': 7, 'price': 25.42}, {'color': 'Green', 'size': '15 oz', 'qty': 10, 'price': 25.83}]}\n"
     ]
    }
   ],
   "source": [
    "find_cursor = products_db.find({\"versions.size\":{\"$exists\":True}})\n",
    "list_docs(find_cursor)"
   ]
  },
  {
   "cell_type": "code",
   "execution_count": 263,
   "metadata": {},
   "outputs": [
    {
     "name": "stdout",
     "output_type": "stream",
     "text": [
      "{'_id': ObjectId('668ad71573c8b630e2131b7b'), 'name': 'Bag', 'departments': ['School'], 'versions': [{'color': 'Black', 'size': 'small', 'qty': 5, 'price': 17.79}, {'color': 'Red', 'size': 'small', 'qty': 3, 'price': 18.23}, {'color': 'Green', 'size': 'small', 'qty': 5, 'price': 20.03}, {'color': 'Black', 'size': 'large', 'qty': 1, 'price': 41.23}, {'color': 'Red', 'size': 'large', 'qty': 10, 'price': 46.82}, {'color': 'Green', 'size': 'large', 'qty': 7, 'price': 45.43}]}\n",
      "{'_id': ObjectId('668ad71573c8b630e2131b7c'), 'name': 'Mug', 'departments': ['Home', 'Kitchen'], 'versions': [{'color': 'White', 'size': '11 oz', 'qty': 14, 'price': 14.79}, {'color': 'Blue', 'size': '11 oz', 'qty': 23, 'price': 15.23}, {'color': 'Green', 'size': '11 oz', 'qty': 15, 'price': 15.07}, {'color': 'White', 'size': '15 oz', 'qty': 11, 'price': 24.43}, {'color': 'Blue', 'size': '15 oz', 'qty': 7, 'price': 25.42}, {'color': 'Green', 'size': '15 oz', 'qty': 10, 'price': 25.83}]}\n"
     ]
    }
   ],
   "source": [
    "find_cursor = products_db.find({\"versions.size\":{\"$exists\":True}})\n",
    "list_docs(find_cursor)"
   ]
  },
  {
   "cell_type": "markdown",
   "metadata": {},
   "source": [
    "Updating Arrays"
   ]
  },
  {
   "cell_type": "code",
   "execution_count": 272,
   "metadata": {},
   "outputs": [
    {
     "data": {
      "text/plain": [
       "{'n': 1, 'nModified': 1, 'ok': 1.0, 'updatedExisting': True}"
      ]
     },
     "execution_count": 272,
     "metadata": {},
     "output_type": "execute_result"
    }
   ],
   "source": [
    "update_many_res = products_db.update_many({\"name\":\"Hat\"},{\"$set\":{\"departments\":[\"Office\", \"School\"]}})\n",
    "update_many_res.raw_result"
   ]
  },
  {
   "cell_type": "code",
   "execution_count": 274,
   "metadata": {},
   "outputs": [
    {
     "name": "stdout",
     "output_type": "stream",
     "text": [
      "['Office', 'School']\n"
     ]
    }
   ],
   "source": [
    "pen2 = products_db.find_one({\"name\":\"Hat\"})[\"departments\"]\n",
    "print(pen2)"
   ]
  },
  {
   "cell_type": "code",
   "execution_count": 280,
   "metadata": {},
   "outputs": [
    {
     "name": "stdout",
     "output_type": "stream",
     "text": [
      "['Office']\n"
     ]
    }
   ],
   "source": [
    "update_many_res = products_db.update_many({\"name\":\"Hat\"},{\"$pop\":{\"departments\":1}})\n",
    "hat = products_db.find_one({\"name\":\"Hat\"})[\"departments\"]\n",
    "print(hat)"
   ]
  },
  {
   "cell_type": "code",
   "execution_count": 282,
   "metadata": {},
   "outputs": [
    {
     "name": "stdout",
     "output_type": "stream",
     "text": [
      "[]\n"
     ]
    }
   ],
   "source": [
    "update_many_res = products_db.update_many({\"name\":\"Hat\"},{\"$pull\":{\"departments\":\"Office\"}})\n",
    "hat = products_db.find_one({\"name\":\"Hat\"})[\"departments\"]\n",
    "print(hat)"
   ]
  },
  {
   "cell_type": "code",
   "execution_count": 283,
   "metadata": {},
   "outputs": [
    {
     "name": "stdout",
     "output_type": "stream",
     "text": [
      "['Office']\n"
     ]
    }
   ],
   "source": [
    "update_many_res = products_db.update_many({\"name\":\"Hat\"},{\"$push\":{\"departments\":\"Office\"}})\n",
    "hat = products_db.find_one({\"name\":\"Hat\"})[\"departments\"]\n",
    "print(hat)"
   ]
  },
  {
   "cell_type": "markdown",
   "metadata": {},
   "source": [
    "Sets Vs Arrays"
   ]
  },
  {
   "cell_type": "code",
   "execution_count": 284,
   "metadata": {},
   "outputs": [
    {
     "name": "stdout",
     "output_type": "stream",
     "text": [
      "<class 'set'>\n",
      "{'Office', 'Home'}\n"
     ]
    }
   ],
   "source": [
    "my_set = {\"Home\", \"Office\"}\n",
    "print(type(my_set))\n",
    "print(my_set)"
   ]
  },
  {
   "cell_type": "code",
   "execution_count": 285,
   "metadata": {},
   "outputs": [
    {
     "data": {
      "text/plain": [
       "{'Home', 'Office', 'School'}"
      ]
     },
     "execution_count": 285,
     "metadata": {},
     "output_type": "execute_result"
    }
   ],
   "source": [
    "my_set.add(\"School\")\n",
    "my_set"
   ]
  },
  {
   "cell_type": "code",
   "execution_count": 286,
   "metadata": {},
   "outputs": [
    {
     "data": {
      "text/plain": [
       "{'Home', 'Office', 'School'}"
      ]
     },
     "execution_count": 286,
     "metadata": {},
     "output_type": "execute_result"
    }
   ],
   "source": [
    "my_set.add(\"School\")\n",
    "my_set # set can not have 2 identical values"
   ]
  },
  {
   "cell_type": "code",
   "execution_count": 287,
   "metadata": {},
   "outputs": [
    {
     "data": {
      "text/plain": [
       "{'Home', 'Office', 'School', 'Technology'}"
      ]
     },
     "execution_count": 287,
     "metadata": {},
     "output_type": "execute_result"
    }
   ],
   "source": [
    "my_set.update([\"Office\", \"Technology\"])\n",
    "my_set"
   ]
  },
  {
   "cell_type": "code",
   "execution_count": 288,
   "metadata": {},
   "outputs": [
    {
     "data": {
      "text/plain": [
       "{'n': 1, 'nModified': 1, 'ok': 1.0, 'updatedExisting': True}"
      ]
     },
     "execution_count": 288,
     "metadata": {},
     "output_type": "execute_result"
    }
   ],
   "source": [
    "update_many_res = products_db.update_many({\"name\":\"Hat\"}, {\"$addToSet\":{\"departments\":\"Home\"}})\n",
    "update_many_res.raw_result"
   ]
  },
  {
   "cell_type": "code",
   "execution_count": 290,
   "metadata": {},
   "outputs": [
    {
     "data": {
      "text/plain": [
       "{'n': 1, 'nModified': 1, 'ok': 1.0, 'updatedExisting': True}"
      ]
     },
     "execution_count": 290,
     "metadata": {},
     "output_type": "execute_result"
    }
   ],
   "source": [
    "update_many_res = products_db.update_many({\"name\":\"Hat\"}, {\"$addToSet\":{\"departments\":{\"$each\":[\"Home\",\"School\"]}}})\n",
    "update_many_res.raw_result"
   ]
  }
 ],
 "metadata": {
  "kernelspec": {
   "display_name": "venv",
   "language": "python",
   "name": "python3"
  },
  "language_info": {
   "codemirror_mode": {
    "name": "ipython",
    "version": 3
   },
   "file_extension": ".py",
   "mimetype": "text/x-python",
   "name": "python",
   "nbconvert_exporter": "python",
   "pygments_lexer": "ipython3",
   "version": "3.12.0"
  }
 },
 "nbformat": 4,
 "nbformat_minor": 2
}
